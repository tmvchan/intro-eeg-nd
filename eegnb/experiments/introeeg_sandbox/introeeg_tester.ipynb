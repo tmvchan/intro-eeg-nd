{
 "cells": [
  {
   "cell_type": "code",
   "execution_count": 1,
   "id": "821c8c4e-f1d6-4d8d-9828-2161a187bb5a",
   "metadata": {
    "tags": []
   },
   "outputs": [
    {
     "name": "stdout",
     "output_type": "stream",
     "text": [
      "pygame 2.3.0 (SDL 2.24.2, Python 3.9.16)\n",
      "Hello from the pygame community. https://www.pygame.org/contribute.html\n"
     ]
    }
   ],
   "source": [
    "# Imports\n",
    "import os, numpy as np,pandas as pd\n",
    "import warnings\n",
    "warnings.filterwarnings('ignore')\n",
    "from eegnb import generate_save_fn\n",
    "from eegnb.devices.eeg import EEG\n",
    "from eegnb.experiments.introeeg_sandbox import RiskTakingFirst as exp\n",
    "from collections import OrderedDict\n",
    "import seaborn as sns\n",
    "from matplotlib import pyplot as plt"
   ]
  },
  {
   "cell_type": "code",
   "execution_count": 2,
   "id": "fcbfdeac-af91-4585-84b3-3d1f3b138fa6",
   "metadata": {
    "tags": []
   },
   "outputs": [],
   "source": [
    "# Here we can change the variables that we use for measuring experiments!\n",
    "\n",
    "board_name = \"muse2_bfn\" # this can stay the same\n",
    "experiment = \"risk_taking\" # this changes depending on the experiment, for the purposes of this notebook it can stay the same\n",
    "subject_id = 1 # change this each time you have a new participant\n",
    "session_nb = 1 # change this each time you have a new run\n",
    "record_duration = 120 # this changes how long each session is"
   ]
  },
  {
   "cell_type": "code",
   "execution_count": 3,
   "id": "bcfb50c3-471b-41d6-b161-fd92a9d4a138",
   "metadata": {
    "tags": []
   },
   "outputs": [
    {
     "name": "stdout",
     "output_type": "stream",
     "text": [
      "C:\\Users\\tchan3\\.eegnb\\data\\risk_taking\\local\\muse2_bfn\\subject0001\\session001\\recording_2023-03-23-21.58.37.csv\n"
     ]
    }
   ],
   "source": [
    "# Start EEG device\n",
    "eeg_device = EEG(device=board_name, serial_num='Muse-B00E') # make sure to replace the serial_num with 'Muse-[your device's serial digits]'\n",
    "\n",
    "# Create save file name\n",
    "save_fn = generate_save_fn(board_name, experiment, subject_id, session_nb)\n",
    "print(save_fn)"
   ]
  },
  {
   "cell_type": "code",
   "execution_count": 4,
   "id": "8eac2b41-12a1-406b-814f-ff653d4e3d3b",
   "metadata": {
    "tags": []
   },
   "outputs": [
    {
     "name": "stdout",
     "output_type": "stream",
     "text": [
      "0.7637 \tWARNING \tWe strongly recommend you activate the PTB sound engine in PsychoPy prefs as the preferred audio engine. Its timing is vastly superior. Your prefs are currently set to use ['sounddevice', 'PTB', 'pyo', 'pygame'] (in that order).\n",
      "18.7666 \tWARNING \tUser requested fullscreen with size [1024  768], but screen is actually [2048, 1152]. Using actual size\n",
      "ioHub Server Process Completed With Code:  0\n"
     ]
    },
    {
     "ename": "SystemExit",
     "evalue": "0",
     "output_type": "error",
     "traceback": [
      "An exception has occurred, use %tb to see the full traceback.\n",
      "\u001b[1;31mSystemExit\u001b[0m\u001b[1;31m:\u001b[0m 0\n"
     ]
    }
   ],
   "source": [
    "exp.present(duration=record_duration, eeg=eeg_device, save_fn=save_fn, subject=subject_id, session=session_nb)"
   ]
  },
  {
   "cell_type": "code",
   "execution_count": null,
   "id": "c46bee3b-9e30-47e0-a73c-a8c2c5da2626",
   "metadata": {
    "tags": []
   },
   "outputs": [],
   "source": [
    "%tb"
   ]
  },
  {
   "cell_type": "code",
   "execution_count": null,
   "id": "7e27eaf3-0811-42d4-8809-e2a12ef3743e",
   "metadata": {},
   "outputs": [],
   "source": [
    "from eegnb import stimuli, experiments\n",
    "\n",
    "stim_dir = os.path.split(stimuli.__file__)[0]\n",
    "exp_dir = os.path.split(experiments.__file__)[0]\n",
    "\n",
    "# fixed stim order list file\n",
    "word_list_file = os.path.join(exp_dir, \"introeeg_sandbox\", \"words_list.csv\")"
   ]
  },
  {
   "cell_type": "code",
   "execution_count": null,
   "id": "d2aede11-943c-4d5c-a44b-fe2447814948",
   "metadata": {},
   "outputs": [],
   "source": [
    "print(word_list_file)"
   ]
  },
  {
   "cell_type": "code",
   "execution_count": null,
   "id": "44c08570-0338-4f1d-bc32-ac15c8301054",
   "metadata": {},
   "outputs": [],
   "source": [
    "from pandas import DataFrame, read_csv\n",
    "\n",
    "word_lists = read_csv(word_list_file)\n",
    "n_trials = word_lists.shape[0]"
   ]
  },
  {
   "cell_type": "code",
   "execution_count": null,
   "id": "12f3bf2e-db93-42fc-bd36-2b2daa694afc",
   "metadata": {},
   "outputs": [],
   "source": [
    "print(word_lists)"
   ]
  },
  {
   "cell_type": "code",
   "execution_count": null,
   "id": "e68555fc-ce17-48c8-8900-7570cc6638f6",
   "metadata": {},
   "outputs": [],
   "source": [
    "ver=2\n",
    "words = word_lists.iloc[:,ver-1]"
   ]
  },
  {
   "cell_type": "code",
   "execution_count": null,
   "id": "20b4ba5c-a341-40d0-9756-629685917a8e",
   "metadata": {},
   "outputs": [],
   "source": [
    "print(words)"
   ]
  },
  {
   "cell_type": "code",
   "execution_count": null,
   "id": "5ba3dadc-6843-4c6a-a57f-e679d1bee713",
   "metadata": {},
   "outputs": [],
   "source": [
    "from pandas import Series\n",
    "stim = words.sample(frac=1).reset_index(drop=True)"
   ]
  },
  {
   "cell_type": "code",
   "execution_count": null,
   "id": "f11fec9f-f6c3-4ba8-a500-2435030f2610",
   "metadata": {},
   "outputs": [],
   "source": [
    "print(stim)"
   ]
  },
  {
   "cell_type": "code",
   "execution_count": null,
   "id": "0194a51b-9fc4-453f-bc3c-ca34f01c9ff5",
   "metadata": {},
   "outputs": [],
   "source": [
    "type(stim)"
   ]
  },
  {
   "cell_type": "code",
   "execution_count": null,
   "id": "6d11e25a-6600-4ce1-8d66-195200daec2d",
   "metadata": {},
   "outputs": [],
   "source": [
    "print(stim[2])"
   ]
  },
  {
   "cell_type": "code",
   "execution_count": null,
   "id": "73751a6a-4a76-43b8-bcf9-2d3a124d1c2f",
   "metadata": {},
   "outputs": [],
   "source": [
    "print(stim.values[2])"
   ]
  },
  {
   "cell_type": "code",
   "execution_count": null,
   "id": "cc840b6e-32af-4e22-a4e0-9a4d6a6a0080",
   "metadata": {},
   "outputs": [],
   "source": [
    "stim.to_csv(path_or_buf='blah.csv')"
   ]
  },
  {
   "cell_type": "code",
   "execution_count": null,
   "id": "06777372-80a4-46c6-b7d7-9942c11906ad",
   "metadata": {},
   "outputs": [],
   "source": [
    "image_type = np.ones(3, dtype=int)\n",
    "image_type = np.append(image_type, np.full(3, 2))"
   ]
  },
  {
   "cell_type": "code",
   "execution_count": null,
   "id": "000f00c9-80af-450c-bca5-22c265fb2f51",
   "metadata": {},
   "outputs": [],
   "source": [
    "print(image_type)"
   ]
  },
  {
   "cell_type": "code",
   "execution_count": null,
   "id": "2bcfe8fc-4cba-4712-b4f5-dbf10b38e02f",
   "metadata": {},
   "outputs": [],
   "source": [
    "from random import shuffle\n",
    "shuffle(image_type)\n",
    "print(image_type)"
   ]
  },
  {
   "cell_type": "code",
   "execution_count": null,
   "id": "ec643e58-63ad-4782-94f2-697c98bd0ca5",
   "metadata": {},
   "outputs": [],
   "source": []
  }
 ],
 "metadata": {
  "kernelspec": {
   "display_name": "Python 3 (ipykernel)",
   "language": "python",
   "name": "python3"
  },
  "language_info": {
   "codemirror_mode": {
    "name": "ipython",
    "version": 3
   },
   "file_extension": ".py",
   "mimetype": "text/x-python",
   "name": "python",
   "nbconvert_exporter": "python",
   "pygments_lexer": "ipython3",
   "version": "3.9.16"
  }
 },
 "nbformat": 4,
 "nbformat_minor": 5
}
