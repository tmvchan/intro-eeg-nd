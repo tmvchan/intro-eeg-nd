{
 "cells": [
  {
   "cell_type": "code",
   "execution_count": 1,
   "id": "821c8c4e-f1d6-4d8d-9828-2161a187bb5a",
   "metadata": {
    "tags": []
   },
   "outputs": [],
   "source": [
    "# Imports\n",
    "import os, numpy as np,pandas as pd\n",
    "import warnings\n",
    "warnings.filterwarnings('ignore')\n",
    "from eegnb import generate_save_fn\n",
    "from eegnb.devices.eeg import EEG\n",
    "from eegnb.experiments.ssneuro_2024 import n170_memory as exp\n",
    "from collections import OrderedDict\n",
    "import seaborn as sns\n",
    "from matplotlib import pyplot as plt"
   ]
  },
  {
   "cell_type": "code",
   "execution_count": 2,
   "id": "fcbfdeac-af91-4585-84b3-3d1f3b138fa6",
   "metadata": {
    "tags": []
   },
   "outputs": [],
   "source": [
    "# Here we can change the variables that we use for measuring experiments!\n",
    "\n",
    "board_name = \"muse2_bfn\" # this can stay the same\n",
    "experiment = \"men_women\" # this changes depending on the experiment, for the purposes of this notebook it can stay the same\n",
    "subject_id = 1 # change this each time you have a new participant\n",
    "session_nb = 1 # change this each time you have a new run\n",
    "record_duration = 60 # this changes how long each session is"
   ]
  },
  {
   "cell_type": "code",
   "execution_count": 3,
   "id": "bcfb50c3-471b-41d6-b161-fd92a9d4a138",
   "metadata": {
    "tags": []
   },
   "outputs": [
    {
     "name": "stdout",
     "output_type": "stream",
     "text": [
      "C:\\Users\\nestea\\.eegnb\\data\\men_women\\local\\muse2_bfn\\subject0001\\session001\\recording_2024-06-17-03.20.18.csv\n"
     ]
    }
   ],
   "source": [
    "# Start EEG device\n",
    "eeg_device = EEG(device=board_name, serial_num='Muse-9BF6') # make sure to replace the serial_num with 'Muse-[your device's serial digits]'\n",
    "\n",
    "# Create save file name\n",
    "save_fn = generate_save_fn(board_name, experiment, subject_id, session_nb)\n",
    "print(save_fn)"
   ]
  },
  {
   "cell_type": "code",
   "execution_count": null,
   "id": "8eac2b41-12a1-406b-814f-ff653d4e3d3b",
   "metadata": {
    "tags": []
   },
   "outputs": [
    {
     "name": "stdout",
     "output_type": "stream",
     "text": [
      "12.8493 \tWARNING \tUser requested fullscreen with size [1600  900], but screen is actually [1920, 1080]. Using actual size\n",
      "13.5474 \tWARNING \tUser requested fullscreen with size [1600  900], but screen is actually [1920, 1080]. Using actual size\n"
     ]
    }
   ],
   "source": [
    "exp.present(duration=record_duration, eeg=eeg_device, save_fn=save_fn, subject=subject_id, session=session_nb)"
   ]
  },
  {
   "cell_type": "code",
   "execution_count": null,
   "id": "c46bee3b-9e30-47e0-a73c-a8c2c5da2626",
   "metadata": {
    "tags": []
   },
   "outputs": [],
   "source": [
    "%tb"
   ]
  },
  {
   "cell_type": "code",
   "execution_count": null,
   "id": "7e27eaf3-0811-42d4-8809-e2a12ef3743e",
   "metadata": {},
   "outputs": [],
   "source": [
    "from eegnb import stimuli, experiments\n",
    "\n",
    "stim_dir = os.path.split(stimuli.__file__)[0]\n",
    "exp_dir = os.path.split(experiments.__file__)[0]\n",
    "\n",
    "# fixed stim order list file\n",
    "word_list_file = os.path.join(exp_dir, \"introeeg_sandbox\", \"words_list.csv\")"
   ]
  },
  {
   "cell_type": "code",
   "execution_count": null,
   "id": "d2aede11-943c-4d5c-a44b-fe2447814948",
   "metadata": {},
   "outputs": [],
   "source": [
    "print(word_list_file)"
   ]
  },
  {
   "cell_type": "code",
   "execution_count": null,
   "id": "44c08570-0338-4f1d-bc32-ac15c8301054",
   "metadata": {},
   "outputs": [],
   "source": [
    "from pandas import DataFrame, read_csv\n",
    "\n",
    "word_lists = read_csv(word_list_file)\n",
    "n_trials = word_lists.shape[0]"
   ]
  },
  {
   "cell_type": "code",
   "execution_count": null,
   "id": "12f3bf2e-db93-42fc-bd36-2b2daa694afc",
   "metadata": {},
   "outputs": [],
   "source": [
    "print(word_lists)"
   ]
  },
  {
   "cell_type": "code",
   "execution_count": null,
   "id": "e68555fc-ce17-48c8-8900-7570cc6638f6",
   "metadata": {},
   "outputs": [],
   "source": [
    "ver=2\n",
    "words = word_lists.iloc[:,ver-1]"
   ]
  },
  {
   "cell_type": "code",
   "execution_count": null,
   "id": "20b4ba5c-a341-40d0-9756-629685917a8e",
   "metadata": {},
   "outputs": [],
   "source": [
    "print(words)"
   ]
  },
  {
   "cell_type": "code",
   "execution_count": null,
   "id": "5ba3dadc-6843-4c6a-a57f-e679d1bee713",
   "metadata": {},
   "outputs": [],
   "source": [
    "from pandas import Series\n",
    "stim = words.sample(frac=1).reset_index(drop=True)"
   ]
  },
  {
   "cell_type": "code",
   "execution_count": null,
   "id": "f11fec9f-f6c3-4ba8-a500-2435030f2610",
   "metadata": {},
   "outputs": [],
   "source": [
    "print(stim)"
   ]
  },
  {
   "cell_type": "code",
   "execution_count": null,
   "id": "0194a51b-9fc4-453f-bc3c-ca34f01c9ff5",
   "metadata": {},
   "outputs": [],
   "source": [
    "type(stim)"
   ]
  },
  {
   "cell_type": "code",
   "execution_count": null,
   "id": "6d11e25a-6600-4ce1-8d66-195200daec2d",
   "metadata": {},
   "outputs": [],
   "source": [
    "print(stim[2])"
   ]
  },
  {
   "cell_type": "code",
   "execution_count": null,
   "id": "73751a6a-4a76-43b8-bcf9-2d3a124d1c2f",
   "metadata": {},
   "outputs": [],
   "source": [
    "print(stim.values[2])"
   ]
  },
  {
   "cell_type": "code",
   "execution_count": null,
   "id": "cc840b6e-32af-4e22-a4e0-9a4d6a6a0080",
   "metadata": {},
   "outputs": [],
   "source": [
    "stim.to_csv(path_or_buf='blah.csv')"
   ]
  },
  {
   "cell_type": "code",
   "execution_count": null,
   "id": "06777372-80a4-46c6-b7d7-9942c11906ad",
   "metadata": {},
   "outputs": [],
   "source": [
    "image_type = np.ones(3, dtype=int)\n",
    "image_type = np.append(image_type, np.full(3, 2))"
   ]
  },
  {
   "cell_type": "code",
   "execution_count": null,
   "id": "000f00c9-80af-450c-bca5-22c265fb2f51",
   "metadata": {},
   "outputs": [],
   "source": [
    "print(image_type)"
   ]
  },
  {
   "cell_type": "code",
   "execution_count": null,
   "id": "2bcfe8fc-4cba-4712-b4f5-dbf10b38e02f",
   "metadata": {},
   "outputs": [],
   "source": [
    "from random import shuffle\n",
    "shuffle(image_type)\n",
    "print(image_type)"
   ]
  },
  {
   "cell_type": "code",
   "execution_count": 10,
   "id": "ec643e58-63ad-4782-94f2-697c98bd0ca5",
   "metadata": {},
   "outputs": [],
   "source": [
    "import numpy as np"
   ]
  },
  {
   "cell_type": "code",
   "execution_count": 12,
   "id": "26045031-f846-46d1-9447-2e5b4ace5942",
   "metadata": {},
   "outputs": [],
   "source": [
    "    # Setup trial list\n",
    "    trial_type = np.random.binomial(1, 0.3, 2000) # number of 2-back repeats\n",
    "    # because we can't have the earliest 1 be any earlier than position 3, insert 2 zeros in front of every list\n",
    "    trial_type = np.insert(trial_type, 0, 0)\n",
    "    trial_type = np.insert(trial_type, 0, 0)"
   ]
  },
  {
   "cell_type": "code",
   "execution_count": 13,
   "id": "8fc9557f-69ea-4028-bf23-52efcdbe880e",
   "metadata": {},
   "outputs": [
    {
     "data": {
      "text/plain": [
       "array([0, 0, 1, ..., 0, 0, 0])"
      ]
     },
     "execution_count": 13,
     "metadata": {},
     "output_type": "execute_result"
    }
   ],
   "source": [
    "trial_type"
   ]
  },
  {
   "cell_type": "code",
   "execution_count": 5,
   "id": "6dca31bf-9294-4465-ab29-4ed2b631b222",
   "metadata": {},
   "outputs": [],
   "source": [
    "from psychopy import prefs\n",
    "#change the pref libraty to PTB and set the latency mode to high precision\n",
    "prefs.hardware['audioLib'] = 'PTB'\n",
    "prefs.hardware['audioLatencyMode'] = 3\n",
    "\n",
    "import os\n",
    "from time import time, strftime, gmtime\n",
    "from glob import glob\n",
    "from random import choice, shuffle\n",
    "from optparse import OptionParser\n",
    "import random\n",
    "\n",
    "import numpy as np\n",
    "from pandas import DataFrame\n",
    "from psychopy import visual, core, event\n",
    "\n",
    "from eegnb import generate_save_fn\n",
    "from eegnb.devices.eeg import EEG\n",
    "from eegnb.stimuli import MEN_WOMEN"
   ]
  },
  {
   "cell_type": "code",
   "execution_count": 6,
   "id": "a6dd8afd-710c-4783-bb5f-7165edfb605d",
   "metadata": {},
   "outputs": [
    {
     "data": {
      "text/plain": [
       "['c:\\\\users\\\\nestea\\\\intro-eeg-nd\\\\eegnb\\\\stimuli\\\\visual\\\\men_women\\\\Men\\\\Study Men\\\\AM0301_2201_00F.jpg',\n",
       " 'c:\\\\users\\\\nestea\\\\intro-eeg-nd\\\\eegnb\\\\stimuli\\\\visual\\\\men_women\\\\Men\\\\Study Men\\\\AM0303_3310_00F.jpg',\n",
       " 'c:\\\\users\\\\nestea\\\\intro-eeg-nd\\\\eegnb\\\\stimuli\\\\visual\\\\men_women\\\\Men\\\\Study Men\\\\AM0305_1101_30L.jpg',\n",
       " 'c:\\\\users\\\\nestea\\\\intro-eeg-nd\\\\eegnb\\\\stimuli\\\\visual\\\\men_women\\\\Men\\\\Study Men\\\\AM0315_1100_00F.jpg',\n",
       " 'c:\\\\users\\\\nestea\\\\intro-eeg-nd\\\\eegnb\\\\stimuli\\\\visual\\\\men_women\\\\Men\\\\Study Men\\\\AM0318_2201_NE.jpg',\n",
       " 'c:\\\\users\\\\nestea\\\\intro-eeg-nd\\\\eegnb\\\\stimuli\\\\visual\\\\men_women\\\\Men\\\\Study Men\\\\AM0318_3301_NE.jpg',\n",
       " 'c:\\\\users\\\\nestea\\\\intro-eeg-nd\\\\eegnb\\\\stimuli\\\\visual\\\\men_women\\\\Men\\\\Study Men\\\\BM0604_2211_00F.jpg',\n",
       " 'c:\\\\users\\\\nestea\\\\intro-eeg-nd\\\\eegnb\\\\stimuli\\\\visual\\\\men_women\\\\Men\\\\Study Men\\\\BM0605_1110_00F.jpg',\n",
       " 'c:\\\\users\\\\nestea\\\\intro-eeg-nd\\\\eegnb\\\\stimuli\\\\visual\\\\men_women\\\\Men\\\\Study Men\\\\BM0606_1100_30L.jpg',\n",
       " 'c:\\\\users\\\\nestea\\\\intro-eeg-nd\\\\eegnb\\\\stimuli\\\\visual\\\\men_women\\\\Men\\\\Study Men\\\\BM0607_1100_NE.jpg',\n",
       " 'c:\\\\users\\\\nestea\\\\intro-eeg-nd\\\\eegnb\\\\stimuli\\\\visual\\\\men_women\\\\Men\\\\Study Men\\\\BM0608_2201_NE.jpg',\n",
       " 'c:\\\\users\\\\nestea\\\\intro-eeg-nd\\\\eegnb\\\\stimuli\\\\visual\\\\men_women\\\\Men\\\\Study Men\\\\BM0618_1100_DI.jpg',\n",
       " 'c:\\\\users\\\\nestea\\\\intro-eeg-nd\\\\eegnb\\\\stimuli\\\\visual\\\\men_women\\\\Men\\\\Study Men\\\\BM0619_2201_00F.jpg',\n",
       " 'c:\\\\users\\\\nestea\\\\intro-eeg-nd\\\\eegnb\\\\stimuli\\\\visual\\\\men_women\\\\Men\\\\Study Men\\\\BM0620_2200_DI.jpg',\n",
       " 'c:\\\\users\\\\nestea\\\\intro-eeg-nd\\\\eegnb\\\\stimuli\\\\visual\\\\men_women\\\\Men\\\\Study Men\\\\CM0004_1100_HA.jpg',\n",
       " 'c:\\\\users\\\\nestea\\\\intro-eeg-nd\\\\eegnb\\\\stimuli\\\\visual\\\\men_women\\\\Men\\\\Study Men\\\\CM0007_1100_00F.jpg',\n",
       " 'c:\\\\users\\\\nestea\\\\intro-eeg-nd\\\\eegnb\\\\stimuli\\\\visual\\\\men_women\\\\Men\\\\Study Men\\\\CM0012_2201_00F.jpg',\n",
       " 'c:\\\\users\\\\nestea\\\\intro-eeg-nd\\\\eegnb\\\\stimuli\\\\visual\\\\men_women\\\\Men\\\\Study Men\\\\CM0015_1100_00F.jpg',\n",
       " 'c:\\\\users\\\\nestea\\\\intro-eeg-nd\\\\eegnb\\\\stimuli\\\\visual\\\\men_women\\\\Men\\\\Study Men\\\\HM1201_1100_30L.jpg',\n",
       " 'c:\\\\users\\\\nestea\\\\intro-eeg-nd\\\\eegnb\\\\stimuli\\\\visual\\\\men_women\\\\Men\\\\Study Men\\\\HM1202_2210_00F.jpg']"
      ]
     },
     "execution_count": 6,
     "metadata": {},
     "output_type": "execute_result"
    }
   ],
   "source": [
    "glob(os.path.join(MEN_WOMEN, \"Men\", \"Study Men\", \"*.jpg\"))"
   ]
  },
  {
   "cell_type": "code",
   "execution_count": null,
   "id": "c6ff5bf2-3255-4dac-91a7-ee113548b21d",
   "metadata": {},
   "outputs": [],
   "source": []
  }
 ],
 "metadata": {
  "kernelspec": {
   "display_name": "Python 3 (ipykernel)",
   "language": "python",
   "name": "python3"
  },
  "language_info": {
   "codemirror_mode": {
    "name": "ipython",
    "version": 3
   },
   "file_extension": ".py",
   "mimetype": "text/x-python",
   "name": "python",
   "nbconvert_exporter": "python",
   "pygments_lexer": "ipython3",
   "version": "3.7.13"
  }
 },
 "nbformat": 4,
 "nbformat_minor": 5
}
