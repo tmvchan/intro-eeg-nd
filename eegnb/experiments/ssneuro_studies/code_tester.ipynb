{
 "cells": [
  {
   "cell_type": "code",
   "execution_count": 1,
   "id": "846166d5-88d2-4792-b7f1-ae5c92bd77d2",
   "metadata": {},
   "outputs": [],
   "source": [
    "import os\n",
    "from time import time\n",
    "from glob import glob\n",
    "from random import choice, shuffle\n",
    "\n",
    "import numpy as np\n",
    "from pandas import DataFrame\n",
    "from psychopy import visual, core, event\n",
    "\n",
    "from eegnb import generate_save_fn\n",
    "from eegnb.stimuli import EASY_HARD"
   ]
  },
  {
   "cell_type": "code",
   "execution_count": 2,
   "id": "d91543e4-13a7-43fd-ab94-c1d811443ac7",
   "metadata": {},
   "outputs": [],
   "source": [
    "ver = 2"
   ]
  },
  {
   "cell_type": "code",
   "execution_count": 3,
   "id": "2949fc73-277e-4359-96e6-a3ff6709c004",
   "metadata": {},
   "outputs": [],
   "source": [
    "if ver is 1 or ver is 3: # easy\n",
    "     n_trials = 15\n",
    "elif ver is 2: # hard\n",
    "    n_trials = 30\n",
    "iti = 1\n",
    "soa = 4\n",
    "jitter = 0.5\n",
    "record_duration = np.float32(120)\n",
    "markernames = [1, 2, 3]"
   ]
  },
  {
   "cell_type": "code",
   "execution_count": 4,
   "id": "9996b8e5-05b0-4036-810a-9bf8740310d1",
   "metadata": {},
   "outputs": [],
   "source": [
    "image_type = np.full(n_trials, ver-1, dtype=int)\n",
    "trials = DataFrame(dict(image_type=image_type, timestamp=np.zeros(n_trials)))"
   ]
  },
  {
   "cell_type": "code",
   "execution_count": 7,
   "id": "0320e62e-2918-4afd-a08b-3e834254cc0c",
   "metadata": {},
   "outputs": [
    {
     "name": "stdout",
     "output_type": "stream",
     "text": [
      "1\n"
     ]
    }
   ],
   "source": [
    "print(trials[\"image_type\"].iloc[0])"
   ]
  },
  {
   "cell_type": "code",
   "execution_count": 8,
   "id": "f1883dc7-828e-4ea8-9d9a-34844cf17b16",
   "metadata": {},
   "outputs": [
    {
     "name": "stdout",
     "output_type": "stream",
     "text": [
      "[1 1 1 1 1 1 1 1 1 1 1 1 1 1 1 1 1 1 1 1 1 1 1 1 1 1 1 1 1 1]\n"
     ]
    }
   ],
   "source": [
    "print(image_type)"
   ]
  },
  {
   "cell_type": "code",
   "execution_count": 10,
   "id": "57f15544-8a81-46df-bb8e-427e91d0a176",
   "metadata": {},
   "outputs": [],
   "source": [
    "if ver is 1 or ver is 3:\n",
    "    stim = list(glob(os.path.join(EASY_HARD, \"easy-*.jpg\")))\n",
    "elif ver is 2:\n",
    "    stim = list(glob(os.path.join(EASY_HARD, \"hard-*.jpg\")))"
   ]
  },
  {
   "cell_type": "code",
   "execution_count": 11,
   "id": "af6c9df6-f908-4720-8dc8-a502858791bb",
   "metadata": {},
   "outputs": [],
   "source": [
    "shuffle(stim)"
   ]
  },
  {
   "cell_type": "code",
   "execution_count": 12,
   "id": "9a22a397-8b29-431b-abdb-1de736960a96",
   "metadata": {},
   "outputs": [
    {
     "name": "stdout",
     "output_type": "stream",
     "text": [
      "['c:\\\\users\\\\vanes\\\\eeg-notebooks\\\\eegnb\\\\stimuli\\\\visual\\\\easy_hard\\\\hard-16 - Copy (21).jpg', 'c:\\\\users\\\\vanes\\\\eeg-notebooks\\\\eegnb\\\\stimuli\\\\visual\\\\easy_hard\\\\hard-16 - Copy (23).jpg', 'c:\\\\users\\\\vanes\\\\eeg-notebooks\\\\eegnb\\\\stimuli\\\\visual\\\\easy_hard\\\\hard-16 - Copy (7).jpg', 'c:\\\\users\\\\vanes\\\\eeg-notebooks\\\\eegnb\\\\stimuli\\\\visual\\\\easy_hard\\\\hard-16 - Copy (22).jpg', 'c:\\\\users\\\\vanes\\\\eeg-notebooks\\\\eegnb\\\\stimuli\\\\visual\\\\easy_hard\\\\hard-16 - Copy (27).jpg', 'c:\\\\users\\\\vanes\\\\eeg-notebooks\\\\eegnb\\\\stimuli\\\\visual\\\\easy_hard\\\\hard-16.jpg', 'c:\\\\users\\\\vanes\\\\eeg-notebooks\\\\eegnb\\\\stimuli\\\\visual\\\\easy_hard\\\\hard-16 - Copy (8).jpg', 'c:\\\\users\\\\vanes\\\\eeg-notebooks\\\\eegnb\\\\stimuli\\\\visual\\\\easy_hard\\\\hard-16 - Copy (10).jpg', 'c:\\\\users\\\\vanes\\\\eeg-notebooks\\\\eegnb\\\\stimuli\\\\visual\\\\easy_hard\\\\hard-16 - Copy (16).jpg', 'c:\\\\users\\\\vanes\\\\eeg-notebooks\\\\eegnb\\\\stimuli\\\\visual\\\\easy_hard\\\\hard-16 - Copy (13).jpg', 'c:\\\\users\\\\vanes\\\\eeg-notebooks\\\\eegnb\\\\stimuli\\\\visual\\\\easy_hard\\\\hard-16 - Copy (3).jpg', 'c:\\\\users\\\\vanes\\\\eeg-notebooks\\\\eegnb\\\\stimuli\\\\visual\\\\easy_hard\\\\hard-16 - Copy (14).jpg', 'c:\\\\users\\\\vanes\\\\eeg-notebooks\\\\eegnb\\\\stimuli\\\\visual\\\\easy_hard\\\\hard-16 - Copy (9).jpg', 'c:\\\\users\\\\vanes\\\\eeg-notebooks\\\\eegnb\\\\stimuli\\\\visual\\\\easy_hard\\\\hard-16 - Copy (15).jpg', 'c:\\\\users\\\\vanes\\\\eeg-notebooks\\\\eegnb\\\\stimuli\\\\visual\\\\easy_hard\\\\hard-16 - Copy (26).jpg', 'c:\\\\users\\\\vanes\\\\eeg-notebooks\\\\eegnb\\\\stimuli\\\\visual\\\\easy_hard\\\\hard-16 - Copy (17).jpg', 'c:\\\\users\\\\vanes\\\\eeg-notebooks\\\\eegnb\\\\stimuli\\\\visual\\\\easy_hard\\\\hard-16 - Copy (19).jpg', 'c:\\\\users\\\\vanes\\\\eeg-notebooks\\\\eegnb\\\\stimuli\\\\visual\\\\easy_hard\\\\hard-16 - Copy (2).jpg', 'c:\\\\users\\\\vanes\\\\eeg-notebooks\\\\eegnb\\\\stimuli\\\\visual\\\\easy_hard\\\\hard-16 - Copy (29).jpg', 'c:\\\\users\\\\vanes\\\\eeg-notebooks\\\\eegnb\\\\stimuli\\\\visual\\\\easy_hard\\\\hard-16 - Copy (24).jpg', 'c:\\\\users\\\\vanes\\\\eeg-notebooks\\\\eegnb\\\\stimuli\\\\visual\\\\easy_hard\\\\hard-16 - Copy (11).jpg', 'c:\\\\users\\\\vanes\\\\eeg-notebooks\\\\eegnb\\\\stimuli\\\\visual\\\\easy_hard\\\\hard-16 - Copy (12).jpg', 'c:\\\\users\\\\vanes\\\\eeg-notebooks\\\\eegnb\\\\stimuli\\\\visual\\\\easy_hard\\\\hard-16 - Copy (5).jpg', 'c:\\\\users\\\\vanes\\\\eeg-notebooks\\\\eegnb\\\\stimuli\\\\visual\\\\easy_hard\\\\hard-16 - Copy (6).jpg', 'c:\\\\users\\\\vanes\\\\eeg-notebooks\\\\eegnb\\\\stimuli\\\\visual\\\\easy_hard\\\\hard-16 - Copy (18).jpg', 'c:\\\\users\\\\vanes\\\\eeg-notebooks\\\\eegnb\\\\stimuli\\\\visual\\\\easy_hard\\\\hard-16 - Copy (28).jpg', 'c:\\\\users\\\\vanes\\\\eeg-notebooks\\\\eegnb\\\\stimuli\\\\visual\\\\easy_hard\\\\hard-16 - Copy.jpg', 'c:\\\\users\\\\vanes\\\\eeg-notebooks\\\\eegnb\\\\stimuli\\\\visual\\\\easy_hard\\\\hard-16 - Copy (4).jpg', 'c:\\\\users\\\\vanes\\\\eeg-notebooks\\\\eegnb\\\\stimuli\\\\visual\\\\easy_hard\\\\hard-16 - Copy (20).jpg', 'c:\\\\users\\\\vanes\\\\eeg-notebooks\\\\eegnb\\\\stimuli\\\\visual\\\\easy_hard\\\\hard-16 - Copy (25).jpg']\n"
     ]
    }
   ],
   "source": [
    "print(stim)"
   ]
  },
  {
   "cell_type": "code",
   "execution_count": null,
   "id": "aa9f15a3-7aef-4dab-b199-6aeff5791ad9",
   "metadata": {},
   "outputs": [],
   "source": []
  }
 ],
 "metadata": {
  "kernelspec": {
   "display_name": "Python 3 (ipykernel)",
   "language": "python",
   "name": "python3"
  },
  "language_info": {
   "codemirror_mode": {
    "name": "ipython",
    "version": 3
   },
   "file_extension": ".py",
   "mimetype": "text/x-python",
   "name": "python",
   "nbconvert_exporter": "python",
   "pygments_lexer": "ipython3",
   "version": "3.7.11"
  }
 },
 "nbformat": 4,
 "nbformat_minor": 5
}
