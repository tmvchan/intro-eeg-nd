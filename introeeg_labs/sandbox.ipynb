{
 "cells": [
  {
   "cell_type": "code",
   "execution_count": 1,
   "id": "cbde6e60-26a4-4fdf-ade0-8dfb985fa233",
   "metadata": {},
   "outputs": [],
   "source": [
    "%gui qt"
   ]
  },
  {
   "cell_type": "markdown",
   "id": "87d934be-ad94-4c2d-90c6-55f819ffea3d",
   "metadata": {},
   "source": [
    "# Visualizer sandbox\n",
    "\n",
    "Getting the muselsl visualizer template to work with brainflow input."
   ]
  },
  {
   "cell_type": "code",
   "execution_count": 2,
   "id": "660fa998-2e43-47a8-87c2-f52855ef89b6",
   "metadata": {},
   "outputs": [],
   "source": [
    "from pprint import pprint\n",
    "\n",
    "import brainflow\n",
    "from brainflow.board_shim import BoardShim, BoardIds"
   ]
  },
  {
   "cell_type": "code",
   "execution_count": 3,
   "id": "1e3b4d0f-9303-4b64-9c64-86bcd5a01aae",
   "metadata": {},
   "outputs": [
    {
     "name": "stdout",
     "output_type": "stream",
     "text": [
      "{'accel_channels': [5, 6, 7],\n",
      " 'eeg_channels': [1, 2, 3, 4],\n",
      " 'eeg_names': 'TP9,Fp1,Fp2,TP10',\n",
      " 'gyro_channels': [8, 9, 10],\n",
      " 'marker_channel': 15,\n",
      " 'name': 'Muse2',\n",
      " 'num_rows': 16,\n",
      " 'package_num_channel': 0,\n",
      " 'ppg_channels': [11, 12, 13],\n",
      " 'sampling_rate': 256,\n",
      " 'timestamp_channel': 14}\n"
     ]
    }
   ],
   "source": [
    "board_id = BoardIds.MUSE_2_BOARD.value\n",
    "board_desc = BoardShim.get_board_descr(board_id)\n",
    "pprint(board_desc)"
   ]
  },
  {
   "cell_type": "code",
   "execution_count": 6,
   "id": "c5f974eb-d0b2-46f9-a387-9fc28cd78f4a",
   "metadata": {},
   "outputs": [
    {
     "ename": "TypeError",
     "evalue": "get_current_board_data() missing 1 required positional argument: 'num_samples'",
     "output_type": "error",
     "traceback": [
      "\u001b[1;31m---------------------------------------------------------------------------\u001b[0m",
      "\u001b[1;31mTypeError\u001b[0m                                 Traceback (most recent call last)",
      "\u001b[1;32m~\\AppData\\Local\\Temp\\ipykernel_5720\\1986394357.py\u001b[0m in \u001b[0;36m<module>\u001b[1;34m\u001b[0m\n\u001b[1;32m----> 1\u001b[1;33m \u001b[0mBoardShim\u001b[0m\u001b[1;33m.\u001b[0m\u001b[0mget_current_board_data\u001b[0m\u001b[1;33m(\u001b[0m\u001b[0mboard_id\u001b[0m\u001b[1;33m)\u001b[0m\u001b[1;33m\u001b[0m\u001b[1;33m\u001b[0m\u001b[0m\n\u001b[0m",
      "\u001b[1;31mTypeError\u001b[0m: get_current_board_data() missing 1 required positional argument: 'num_samples'"
     ]
    }
   ],
   "source": [
    "BoardShim.get_current_board_data(board_id)"
   ]
  },
  {
   "cell_type": "code",
   "execution_count": 7,
   "id": "82c47eaa-6cf1-4140-aca2-736c27b0f526",
   "metadata": {},
   "outputs": [],
   "source": [
    "import brainflow_viz_v2"
   ]
  },
  {
   "cell_type": "code",
   "execution_count": 10,
   "id": "63edef74-04b9-47fb-8a0a-7cf4b1015f07",
   "metadata": {},
   "outputs": [
    {
     "data": {
      "application/vnd.jupyter.widget-view+json": {
       "model_id": "24266c3bf8054f7cad6f2ed9ff711bd1",
       "version_major": 2,
       "version_minor": 0
      },
      "text/plain": [
       "RFBOutputContext()"
      ]
     },
     "metadata": {},
     "output_type": "display_data"
    },
    {
     "name": "stdout",
     "output_type": "stream",
     "text": [
      "Setting up band-pass filter from 3 - 40 Hz\n",
      "\n",
      "FIR filter parameters\n",
      "---------------------\n",
      "Designing a one-pass, zero-phase, non-causal bandpass filter:\n",
      "- Windowed time-domain design (firwin) method\n",
      "- Hamming window with 0.0194 passband ripple and 53 dB stopband attenuation\n",
      "- Lower passband edge: 3.00\n",
      "- Lower transition bandwidth: 2.00 Hz (-6 dB cutoff frequency: 2.00 Hz)\n",
      "- Upper passband edge: 40.00 Hz\n",
      "- Upper transition bandwidth: 10.00 Hz (-6 dB cutoff frequency: 45.00 Hz)\n",
      "- Filter length: 423 samples (1.652 sec)\n",
      "\n"
     ]
    }
   ],
   "source": [
    "%run -i brainflow_viz_v2.py "
   ]
  },
  {
   "cell_type": "code",
   "execution_count": null,
   "id": "f6cecc41-983a-444c-9cc6-cbf12a1f3e8e",
   "metadata": {},
   "outputs": [],
   "source": []
  }
 ],
 "metadata": {
  "kernelspec": {
   "display_name": "Python 3 (ipykernel)",
   "language": "python",
   "name": "python3"
  },
  "language_info": {
   "codemirror_mode": {
    "name": "ipython",
    "version": 3
   },
   "file_extension": ".py",
   "mimetype": "text/x-python",
   "name": "python",
   "nbconvert_exporter": "python",
   "pygments_lexer": "ipython3",
   "version": "3.7.11"
  }
 },
 "nbformat": 4,
 "nbformat_minor": 5
}
