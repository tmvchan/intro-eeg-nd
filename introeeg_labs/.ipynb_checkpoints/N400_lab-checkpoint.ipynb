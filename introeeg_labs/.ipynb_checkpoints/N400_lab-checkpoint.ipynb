{
 "cells": [
  {
   "cell_type": "code",
   "execution_count": null,
   "id": "389829ac-44b7-416f-9a41-03194ba84ec1",
   "metadata": {},
   "outputs": [],
   "source": [
    "%matplotlib inline"
   ]
  },
  {
   "cell_type": "markdown",
   "id": "45b21d66-57d2-4be8-9f9f-d9b58d567604",
   "metadata": {},
   "source": [
    "# N400: Test using words\n",
    "\n",
    "The N400 is a negative-going deflection first discovered in response to sentence-final words that were incongruent with their context. Because the N400 is typically observed using central electrodes, we are going to be using a pre-existing dataset known as [ERP CORE](https://erpinfo.org/erp-core) to examine how these data are typically processed. \n",
    "\n",
    "Since we're using a different dataset, the data are formatted differently, so the below code will look different from what we have been using. But some of the basic principles will remain the same."
   ]
  },
  {
   "cell_type": "code",
   "execution_count": null,
   "id": "c40b209e-b97b-4938-9d83-97d55409e9ae",
   "metadata": {},
   "outputs": [],
   "source": [
    "# general imports\n",
    "import os\n",
    "import numpy as np\n",
    "\n",
    "# MNE-based imports\n",
    "from mne import read_epochs, read_evokeds, write_evokeds, combine_evoked, grand_average\n",
    "from mne import Epochs,Evoked,find_events\n",
    "from mne.viz import plot_compare_evokeds "
   ]
  },
  {
   "cell_type": "markdown",
   "id": "8d35a0d0-086c-4d55-bd1f-52a8b4fa5e56",
   "metadata": {},
   "source": [
    "ERP CORE presents their files in raw format for individuals to preprocess using their own methods. Because their paper originally uses MATLAB to process files, we are going to process them using MNE. The first step in this process is to preprocess data. I have done some of this in advance, so that we can see how it works, but we won't be doing the rest of it today (we'll actually all take part in that *fun* process together when we discuss analyses in more detail).\n",
    "\n",
    "So instead, we are loading in some files. I will be having all groups look at one different participant first before we average them all together.\n",
    "\n",
    "All participant files have been uploaded onto Canvas, and your assigned file is on the 'N400 File Assignment' spreadsheet. The file you want to download will be in the 'Epoched Files' folder. Download your assigned participant into the 'N400' folder directory. Your path in Windows Explorer should look like:  \n",
    "C: / Users / eeg-user / eeg-notebooks / introeeg_labs / N400"
   ]
  },
  {
   "cell_type": "code",
   "execution_count": null,
   "id": "00faa4c7-d227-47c9-9f4d-ce02b2fbe89f",
   "metadata": {
    "tags": []
   },
   "outputs": [],
   "source": [
    "# loading in files\n",
    "file_path = os.path.join('C:\\\\', 'Users', 'eeg-user', 'eeg-notebooks', 'introeeg_labs', 'N400')\n",
    "\n",
    "subject = 2 # replace this with the subject number you have been assigned\n",
    "filename = str(subject) + \"_N400_epo.fif\" # name of the file that was made\n",
    "mmn_epoch_subj = os.path.join(file_path, filename)\n",
    "epochs = read_epochs(mmn_epoch_subj)"
   ]
  },
  {
   "cell_type": "markdown",
   "id": "eacec51e-d839-4a69-9ba0-f70a4e09f31c",
   "metadata": {},
   "source": [
    "These files are epoched data, meaning that they have already been segmented into the time periods immediately before and after a stimulus was presented. These are so we can make ERPs out of averaging them togoether. "
   ]
  },
  {
   "cell_type": "markdown",
   "id": "a7838818-54c8-4e78-b3ae-7aeeebfb04a3",
   "metadata": {
    "tags": []
   },
   "source": [
    "## Averaging conditions\n",
    "\n",
    "In the N400 data used for this test, there are two conditions of interest: control and violation. They have been previously labeled in events as such, so we can start by averaging them."
   ]
  },
  {
   "cell_type": "code",
   "execution_count": null,
   "id": "3b20b37d-81b1-40f9-987c-f1ff7fce128f",
   "metadata": {},
   "outputs": [],
   "source": [
    "# averaging related and unrelated, but ONLY for the targets (not the primes)\n",
    "\n",
    "related = epochs['target/related'].average()\n",
    "unrelated = epochs['target/unrelated'].average()"
   ]
  },
  {
   "cell_type": "markdown",
   "id": "227bfde3-ce99-40ca-adb0-15e32cc65cf2",
   "metadata": {},
   "source": [
    "In order to save these averages, we make an mne.Evoked object from the epochs that we have separated out (this is what averaging epochs does, as we did above).\n",
    "\n",
    "We'll take a brief look at what it looks like for one participant. The N400 is measured from electrode CPz in the ERP CORE set, with the epoch set from 200 milliseconds before stimulus onset to 800 milliseconds after."
   ]
  },
  {
   "cell_type": "code",
   "execution_count": null,
   "id": "d64ddfc0-b6c4-4727-b23e-a612b6a2134a",
   "metadata": {},
   "outputs": [],
   "source": [
    "evokeds = dict(related=related, unrelated=unrelated)\n",
    "picks = ['CPz']\n",
    "plot_compare_evokeds(evokeds, picks=picks)"
   ]
  },
  {
   "cell_type": "markdown",
   "id": "06b81e9d-127b-4336-bd23-915b109536a5",
   "metadata": {},
   "source": [
    "Their group average, with 39 participants, looks like this:\n",
    "\n",
    "![N400 from ERPCORE](n400_erpcore.png)\n",
    "\n",
    "So let's make our class average with a subset of their data! First, we have to save the file you just made."
   ]
  },
  {
   "cell_type": "code",
   "execution_count": null,
   "id": "1cfeef43-309d-484a-89b6-0f77fb57fa04",
   "metadata": {},
   "outputs": [],
   "source": [
    "# save evokeds file\n",
    "fname = str(subject) + \"_N400_evo-ave.fif\"\n",
    "write_evokeds(fname, list(evokeds.values()), overwrite=True)"
   ]
  },
  {
   "cell_type": "markdown",
   "id": "120d03cb-867e-4a14-9f69-f8641a9f1452",
   "metadata": {},
   "source": [
    "Now take this evo-ave file that you've generated, and upload it into the 'Finished Files' folder."
   ]
  },
  {
   "cell_type": "markdown",
   "id": "38ccbf97-4416-454e-8242-5472ee5477aa",
   "metadata": {},
   "source": [
    "## Averaging across participants\n",
    "\n",
    "We've now each generated our own evoked files, and uploaded them into the 'Finished Files' folder. Now download the files that everyone else has made and put them into the same folder you put your first file (and where the evo-ave file you just made should be saved). We are now going to do the same thing we did with one participant, but across all of the participants in our class set!"
   ]
  },
  {
   "cell_type": "code",
   "execution_count": null,
   "id": "de273bf8-62d6-4dc8-be38-bb3e5618bc13",
   "metadata": {},
   "outputs": [],
   "source": [
    "# using mne.grand_average() to combine subjects\n",
    "\n",
    "file_path = os.path.join('C:\\\\', 'Users', 'nestea', 'eeg-notebooks', 'introeeg_labs', 'N400')\n",
    "os.chdir(file_path)\n",
    "\n",
    "subjects = [2] # this should be replaced with the numbers of the subjects that we are using!\n",
    "files = []\n",
    "evoked_subs = {}\n",
    "conditions = ['related', 'unrelated'] # list out conditions\n",
    "picks=['CPz']\n",
    "\n",
    "# make file list\n",
    "for subj in subjects:\n",
    "    fname = str(subj) + \"_N400_evo-ave.fif\"\n",
    "    files.append(fname)\n",
    "\n",
    "for idx, c in enumerate(conditions):\n",
    "    evoked_subs[c] = [read_evokeds(fname)[idx] for fname in files]\n",
    "\n",
    "r_grand_average = grand_average(evoked_subs['related'])\n",
    "u_grand_average = grand_average(evoked_subs['unrelated'])\n",
    "grand = dict(related=r_grand_average, unrelated=u_grand_average)\n",
    "plot_compare_evokeds(evoked_subs, picks=picks)"
   ]
  },
  {
   "cell_type": "code",
   "execution_count": null,
   "id": "745c3172-65ce-416d-abf0-72b11c8d3c45",
   "metadata": {},
   "outputs": [],
   "source": []
  }
 ],
 "metadata": {
  "kernelspec": {
   "display_name": "Python 3 (ipykernel)",
   "language": "python",
   "name": "python3"
  },
  "language_info": {
   "codemirror_mode": {
    "name": "ipython",
    "version": 3
   },
   "file_extension": ".py",
   "mimetype": "text/x-python",
   "name": "python",
   "nbconvert_exporter": "python",
   "pygments_lexer": "ipython3",
   "version": "3.7.13"
  }
 },
 "nbformat": 4,
 "nbformat_minor": 5
}
