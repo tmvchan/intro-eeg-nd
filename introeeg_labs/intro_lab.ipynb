{
 "cells": [
  {
   "cell_type": "markdown",
   "id": "2ec06a7d-4c27-40df-9b6a-ee7635693de0",
   "metadata": {},
   "source": [
    "# Intro to Jupyter & Python (or at least what you'll need to survive this course)\n",
    "### Intro to EEG Spring 2023 | Mondays 2-5PM\n",
    "\n",
    "This is by no means an exhaustive introduction to how the Python coding language works, or all the funky things you can do with Jupyter. Heck, even I don't know them all! Needless to say, some of you might know way more about Python than I do. But if you are like me, and entered into the world of Python semi-blind, this is hopefully for you.\n",
    "\n",
    "The thing about coding is that even if you don't know a coding language, or know all the intricacies of how things work, if you know the basics and how to search up the relevant info, you can go a long way. Since Python is a free coding language that is very popular, knowing just a little bit will be super handy. if you've worked in the stats language R, you'll know a bit of that relevant info too.\n",
    "\n",
    "Jupyter is a way to document and run code alongside descriptions and graphs. Normally, you write a programming file and run it in a terminal, but with Jupyter, you can run it in a block. We'll dive into the programming files themselves, but first, we'll orient ourselves to Jupyter.\n",
    "\n",
    "### Running code in Jupyter\n",
    "\n",
    "Each block (or cell) of code in Jupyter will look like the one below. To execute the code in it, click on the cell and press Ctrl+Enter:"
   ]
  },
  {
   "cell_type": "code",
   "execution_count": 1,
   "id": "fff5009e-b151-4cd1-9c96-edffd128094b",
   "metadata": {},
   "outputs": [
    {
     "name": "stdout",
     "output_type": "stream",
     "text": [
      "hello, world!\n"
     ]
    }
   ],
   "source": [
    "print('hello, world!')"
   ]
  },
  {
   "cell_type": "markdown",
   "id": "47642ceb-1db2-4043-8ea6-e042931e9322",
   "metadata": {},
   "source": [
    "Notice how a line appears underneath the cell when you run it. "
   ]
  }
 ],
 "metadata": {
  "kernelspec": {
   "display_name": "Python 3 (ipykernel)",
   "language": "python",
   "name": "python3"
  },
  "language_info": {
   "codemirror_mode": {
    "name": "ipython",
    "version": 3
   },
   "file_extension": ".py",
   "mimetype": "text/x-python",
   "name": "python",
   "nbconvert_exporter": "python",
   "pygments_lexer": "ipython3",
   "version": "3.7.11"
  }
 },
 "nbformat": 4,
 "nbformat_minor": 5
}
