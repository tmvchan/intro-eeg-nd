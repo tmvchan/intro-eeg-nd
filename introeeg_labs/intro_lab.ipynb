{
 "cells": [
  {
   "cell_type": "markdown",
   "id": "2ec06a7d-4c27-40df-9b6a-ee7635693de0",
   "metadata": {},
   "source": [
    "# Intro to Jupyter & Python (or hopefully at least what you'll need to survive this course)\n",
    "### Intro to EEG Spring 2023 | Mondays 2-5PM\n",
    "\n",
    "This is by no means an exhaustive introduction to how the Python coding language works, or all the funky things you can do with Jupyter. Heck, even I don't know them all! Needless to say, some of you might know way more about Python than I do. But if you are like me, and entered into the world of Python semi-blind, this is hopefully for you.\n",
    "\n",
    "The thing about coding is that even if you don't know a coding language, or know all the intricacies of how things work, if you know the basics and how to search up the relevant info, you can go a long way. Since Python is a free coding language that is very popular, knowing just a little bit will be super handy. if you've worked in the stats language R, you'll know a bit of that relevant info too.\n",
    "\n",
    "Jupyter is a way to document and run code alongside descriptions and graphs. Normally, you write a programming file and run it in a terminal, but with Jupyter, you can run it in a block. We'll dive into the programming files themselves, but first, we'll orient ourselves to Jupyter.\n",
    "\n",
    "### Running code in Jupyter\n",
    "\n",
    "Each block (or cell) of code in Jupyter will look like the one below. To execute the code in it, click on the cell and press Ctrl+Enter:"
   ]
  },
  {
   "cell_type": "code",
   "execution_count": null,
   "id": "fff5009e-b151-4cd1-9c96-edffd128094b",
   "metadata": {},
   "outputs": [],
   "source": [
    "print('hello, world!')"
   ]
  },
  {
   "cell_type": "markdown",
   "id": "47642ceb-1db2-4043-8ea6-e042931e9322",
   "metadata": {},
   "source": [
    "Notice how a line appears underneath the cell when you run it. This is the output of the code that you ran in the previous cell, which told it to print out a certain text pattern, which we specified as the phrase 'hello, world!'\n",
    "\n",
    "Importantly, not every cell will return output. In fact, there's a lot of code that is not going to immediately spit back output. Sometimes you might actually want to specify something for the program to print so that you know you're on the right track.\n",
    "\n",
    "Finally, you'll notice that this is written in a cell too, but it's not a cell of code. This is called markdown, and it's a way of creating nicely-formatted text. So you'll see me writing a lot of comments here for you to follow. \n",
    "\n",
    "### Variables\n",
    "\n",
    "We often use 'variable' in scientific language to mean something that changes (e.g. an independent variable is a part of an experimental scenario that we change because we're interested in the effect it has). In programming, 'variable' is something that stands in to represent a specific value. Think when you learned some algebra about how you were always looking at 'x = 5 + 2' or something like that. In this case, x stands in for whatever 5 + 2 is, and x is a variable.\n",
    "\n",
    "Every coding language has variables, and we assign variables to mean something through code. In Python this is done by using one equals sign, such as:"
   ]
  },
  {
   "cell_type": "code",
   "execution_count": null,
   "id": "c044aef9-dd7d-4343-9996-ea86882230ed",
   "metadata": {},
   "outputs": [],
   "source": [
    "x = 5 + 2"
   ]
  },
  {
   "cell_type": "markdown",
   "id": "097d031e-04ec-4bcc-8f47-85dbecaec363",
   "metadata": {},
   "source": [
    "If you run the above cell, notice how it doesn't give you output. But say we want to see what x is now assigned to. We can use the print command that we used earlier:"
   ]
  },
  {
   "cell_type": "code",
   "execution_count": null,
   "id": "65d5deb5-d9fa-46fb-bfe0-8774ad8390b7",
   "metadata": {},
   "outputs": [],
   "source": [
    "print(x)"
   ]
  },
  {
   "cell_type": "markdown",
   "id": "74094f67-344e-4213-abb4-51e3a0c25d63",
   "metadata": {},
   "source": [
    "Compare what was printed out with print(x) and print('hello, world!'). \n",
    "\n",
    "Test it out below:\n",
    "1. How would you get the cell to print the phrase 5 + 2? "
   ]
  },
  {
   "cell_type": "code",
   "execution_count": null,
   "id": "1057e29e-027a-4a00-8427-d82ede8aba3c",
   "metadata": {},
   "outputs": [],
   "source": [
    "# enter your code here! "
   ]
  },
  {
   "cell_type": "markdown",
   "id": "4745610a-a253-4d6f-90f1-03f383c0921f",
   "metadata": {},
   "source": [
    "### Commenting\n",
    "\n",
    "See how I also wrote something in the above code box that says '# enter your code here!'? The # symbol is used to denote a comment, or when you want to leave a note about a line of code but you're not in markdown. Everything after the # sign is in that green font, indicating that it's not going to be read as code.\n",
    "\n",
    "Commenting is really handy in letting someone know what a given variable refers to, for example, when they read your code (or, if you're like me, when you read your own code about 6 months from when you wrote it, and you've completely forgotten what you want it to do). You can also use it to temporarily disable lines of code without getting rid of them while running the code.\n",
    "\n",
    "Because we're in a Jupyter notebook, you can switch between markdown and code cells easily, so you might not have to use # to comment as much. But you'll still see it throughout the notebooks shown here."
   ]
  },
  {
   "cell_type": "markdown",
   "id": "19b795a5-546c-45f6-8268-b1c567700e83",
   "metadata": {},
   "source": [
    "### Types of variables\n",
    "\n",
    "Earlier, when I asked you to try and print the phrase 5 + 2, as opposed to what print(x) gave, it was highlighting that the way in which we write things does matter! This has to do with the fact that there are different kinds of variables. In short:\n",
    "\n",
    "Integer - a whole number value (e.g. 7)  \n",
    "Floating-point - a decimal value (e.g. 5.6)  \n",
    "String - a piece of text, denoted by using single or double quotes (e.g. 'hello, world!')  \n",
    "Boolean - True or False (written with capitalized first letter, not in quotes)"
   ]
  },
  {
   "cell_type": "code",
   "execution_count": null,
   "id": "e769cf7f-8a2d-4fbe-9562-38885ea12596",
   "metadata": {},
   "outputs": [],
   "source": [
    "x = 7\n",
    "y = 5.6\n",
    "z = 'hello, world!'\n",
    "alpha = True"
   ]
  },
  {
   "cell_type": "code",
   "execution_count": null,
   "id": "53c9dcda-9ce6-4630-99db-d72f169b85b3",
   "metadata": {},
   "outputs": [],
   "source": [
    "print(alpha) # try printing the other variables too"
   ]
  },
  {
   "cell_type": "markdown",
   "id": "42847071-23af-438b-aebe-08b1b679628d",
   "metadata": {},
   "source": [
    "### Mathematical operators\n",
    "\n",
    "We don't make variables just to store them, but we want to do things with them too. We can do simple mathematical functions, like what we saw with x = 5 + 2:"
   ]
  },
  {
   "cell_type": "code",
   "execution_count": 1,
   "id": "2cdf2ed9-796d-4cb6-aa10-c5e1bb93ab4b",
   "metadata": {},
   "outputs": [
    {
     "name": "stdout",
     "output_type": "stream",
     "text": [
      "7.0\n"
     ]
    }
   ],
   "source": [
    "x = 5.0\n",
    "y = 2\n",
    "z = x + y # since x stores 5, and y stores 2, the answer is an integer value of 7\n",
    "print(z)"
   ]
  },
  {
   "cell_type": "markdown",
   "id": "e57bf102-8ca2-405d-aea7-bcb27149f371",
   "metadata": {},
   "source": [
    "Test it out:\n",
    "1. What do you get when you write x = 5.0 instead of x = 5 above? What about x = 5.0 and y = 2.0?\n",
    "2. Try running the below code. What do you think it's doing? What type of variable is z? What about p?"
   ]
  },
  {
   "cell_type": "code",
   "execution_count": null,
   "id": "220ac4da-d38a-4a83-b8a0-b8597f7a578f",
   "metadata": {},
   "outputs": [],
   "source": [
    "x = 7.5\n",
    "y = 9.27\n",
    "z = x + y\n",
    "print(int(z))\n",
    "\n",
    "m = 8\n",
    "n = 10\n",
    "p = float(m + n)\n",
    "print(p)"
   ]
  },
  {
   "cell_type": "markdown",
   "id": "aa70bf90-bf57-46fa-bc46-6ce9d1595d40",
   "metadata": {},
   "source": [
    "You can do similar things with strings, although they behave a bit differently (see below):"
   ]
  },
  {
   "cell_type": "code",
   "execution_count": null,
   "id": "697c6605-4767-4cdf-8682-4305a7541fea",
   "metadata": {},
   "outputs": [],
   "source": [
    "a = 'cat'\n",
    "b = 'dog'\n",
    "c = a + b\n",
    "print(c)"
   ]
  },
  {
   "cell_type": "markdown",
   "id": "83a165e4-ffbd-4bd6-b591-6cb081ac80b7",
   "metadata": {},
   "source": [
    "Test it out:\n",
    "1. What do you think the outcome of the below code is? Why is it behaving this way? \n",
    "2. How would you get the below code to print '7 llamas' without changing the bottom two lines of code? (hint: there's a similar kind of thing for strings that you saw for int() and float() - try finding it on google!)"
   ]
  },
  {
   "cell_type": "code",
   "execution_count": 2,
   "id": "d96937a4-8313-475c-913e-2916a0f3bc62",
   "metadata": {},
   "outputs": [
    {
     "name": "stdout",
     "output_type": "stream",
     "text": [
      "7llamas\n"
     ]
    }
   ],
   "source": [
    "d = str(7)\n",
    "e = 'llamas'\n",
    "f = d + e\n",
    "print(f)"
   ]
  },
  {
   "cell_type": "markdown",
   "id": "1f940842-a413-43e2-ab82-84e02f49421c",
   "metadata": {},
   "source": [
    "### Conditional Statements and Loops\n",
    "\n",
    "Notice we haven't really touched booleans much yet. Booleans, however, are super important for getting code to work. If you think about it, there's a lot of code that you don't want always running, but you want it to run at certain times and not at others. Having things that can store True or False is like having an on/off switch. \n",
    "\n",
    "Note that you can store statements as booleans too:"
   ]
  },
  {
   "cell_type": "code",
   "execution_count": null,
   "id": "c82e319d-898d-472d-b165-bccc71e27581",
   "metadata": {},
   "outputs": [],
   "source": [
    "x = 5\n",
    "y = x > 2\n",
    "print(y)"
   ]
  },
  {
   "cell_type": "markdown",
   "id": "bf612ece-eb79-45f9-8853-293e15c57bec",
   "metadata": {},
   "source": [
    "In the above code, we asked y to store the result of x > 2. Since x is assigned to 5, x is greater than 2, and therefore x > 2 is a true statement. Because the result of x > 2 is classified as true or false, y stores that phrase as a boolean.\n",
    "\n",
    "This is useful for having conditions to control the flow of actions. Maybe there's something you want to happen when x is bigger than 2, but x might get reassigned and change sizes, and if x becomes smaller than 2 you don't want it to happen.\n",
    "\n",
    "This can be completed with something called an if statement:"
   ]
  },
  {
   "cell_type": "code",
   "execution_count": null,
   "id": "a37da1db-bc78-4818-a6cf-40c5ff686933",
   "metadata": {},
   "outputs": [],
   "source": [
    "x = 5\n",
    "\n",
    "if x > 2:\n",
    "    print('yup x is greater than two')"
   ]
  },
  {
   "cell_type": "markdown",
   "id": "f009f933-3810-4697-ae66-55092c91aa9d",
   "metadata": {},
   "source": [
    "Note that there's nothing assigned to x > 2. The if statement is simply looking for whether or not the statement following 'if' is true.\n",
    "\n",
    "Try it out:\n",
    "1. What happens if you make x a value that is less than two?\n",
    "2. Compare that to the below code. What are elif and else doing?"
   ]
  },
  {
   "cell_type": "code",
   "execution_count": null,
   "id": "6e173e88-42a7-4f5f-a6c7-b1f372e2d14b",
   "metadata": {},
   "outputs": [],
   "source": [
    "x = 2\n",
    "\n",
    "if x > 2:\n",
    "    print('yup x is greater than two')\n",
    "elif x < 2:\n",
    "    print('nope x is less than two')\n",
    "else:\n",
    "    print('x is right on two')"
   ]
  },
  {
   "cell_type": "markdown",
   "id": "33e47094-027e-4f0e-848d-7ebd4db1457f",
   "metadata": {},
   "source": [
    "If statements are often paired with else statements, but are not necessarily.\n",
    "\n",
    "These kinds of boolean statements can also be used in what we call loops: when we get the same code to be run a certain number of times. First is the while loop:"
   ]
  },
  {
   "cell_type": "code",
   "execution_count": null,
   "id": "40ae3bf4-af5c-41e9-a576-1ae116deb29f",
   "metadata": {},
   "outputs": [],
   "source": [
    "y = 2020\n",
    "\n",
    "while y < 2023:\n",
    "    print('The year is ' + str(y) + ', still COVIDified!')\n",
    "    y += 1 \n",
    "    \n",
    "print('The year is ' + str(y) + ', I think we\\'re back to normal')"
   ]
  },
  {
   "cell_type": "markdown",
   "id": "4e3486c3-791f-436a-a2c1-2bc0d0aabdcf",
   "metadata": {},
   "source": [
    "Note the += operator: what it does is it adds 1 to what y is and then reassigns that value to y. In other words, the first time the while loop runs the code, it adds 1 to y (1 + 2020 = 2021) and then reassigns that value to y, so that y now equals 2021.\n",
    "\n",
    "Once the while statement is no longer true, it doesn't repeat that code any more, and exits the while loop, running any code that follows it.\n",
    "\n",
    "The other kind of loop that's probably important for you to know is the for loop:"
   ]
  },
  {
   "cell_type": "code",
   "execution_count": null,
   "id": "fe5800b7-9d13-4d46-89ab-84b5170005ea",
   "metadata": {},
   "outputs": [],
   "source": [
    "for x in range(0, 10): # range(x, y) is a stand-in for the integer values from x up to y, but not including y. \n",
    "    print(x)"
   ]
  },
  {
   "cell_type": "markdown",
   "id": "c417cdb0-80b3-4872-bb5d-6aba39048cae",
   "metadata": {},
   "source": [
    "For loops basically repeat the code within the loop over a sequence (or collection) of things. This means that the for loop will execute the code as many times as the collection is long. This collection can take different forms, and stored in a variable. And these collections don't have to store just numbers:"
   ]
  },
  {
   "cell_type": "code",
   "execution_count": null,
   "id": "da0a1ed4-93fd-4f59-b60b-abda2f9b53e6",
   "metadata": {},
   "outputs": [],
   "source": [
    "fruit_list = ['cherry', 'banana', 'orange', 'apple', 'pomegranate', 'grapefruit']\n",
    "\n",
    "for fruit in fruit_list:\n",
    "    print(fruit)"
   ]
  },
  {
   "cell_type": "markdown",
   "id": "23dcd9ca-a052-4123-974c-684c78acf1c3",
   "metadata": {},
   "source": [
    "Importantly, for loops and if statements might and can also be combined:"
   ]
  },
  {
   "cell_type": "code",
   "execution_count": null,
   "id": "c84f064a-9915-49b7-9676-a2d652a5d368",
   "metadata": {},
   "outputs": [],
   "source": [
    "fruit_list = ['cherry', 'banana', 'orange', 'apple', 'pomegranate', 'grapefruit']\n",
    "\n",
    "for fruit in fruit_list:\n",
    "    if fruit == 'banana':\n",
    "        print('peel, banana! peel peel, banana!')\n",
    "    else:\n",
    "        print(fruit)"
   ]
  },
  {
   "cell_type": "markdown",
   "id": "4a91e184-d170-49e0-b092-2420a94e615b",
   "metadata": {},
   "source": [
    "The variable fruits_list above is a list. Lists hold more than one value at a time, which means that it holds all of those strings in the same variable. Lists are flexible and can hold all kinds of things, such as strings, integers, booleans, and so on. \n",
    "\n",
    "You can also get a specific value from a list, based on its position. In the above fruits_list example, 'cherry' is in the first position, and 'pomegranate' is in the fifth. You can get the value of something from a list by typing list[number].\n",
    "\n",
    "Try it out:\n",
    "1. Can you get the below cell to print 'apple'? What did you have to do?"
   ]
  },
  {
   "cell_type": "code",
   "execution_count": null,
   "id": "165f2a39-f242-46aa-869b-5ee0d3aa108e",
   "metadata": {},
   "outputs": [],
   "source": [
    "k = fruit_list[1]\n",
    "print(k)"
   ]
  },
  {
   "cell_type": "markdown",
   "id": "57b67261-2dc7-456f-9f88-03ba605b2e4c",
   "metadata": {},
   "source": [
    "### Functions\n",
    "\n",
    "The last thing that I really want to discuss that's relevant for us are functions. Functions are blocks of code that only run when we 'call' it. Functions make the backbone of a lot of the code we're going to see and tinker with, since it's mostly pre-written and we're for the most part just changing things in existing functions."
   ]
  },
  {
   "cell_type": "code",
   "execution_count": null,
   "id": "a0b3a6f4-c03c-4c26-97a4-172372106195",
   "metadata": {},
   "outputs": [],
   "source": [
    "def self_intro():\n",
    "    print('Hello, my name is Vanessa!')"
   ]
  },
  {
   "cell_type": "markdown",
   "id": "a333c195-0a5d-4f44-83fb-c484f5bf0317",
   "metadata": {},
   "source": [
    "As seen above, running the function alone doesn't execute the code. To call a function, we type out the name of the function on another line:"
   ]
  },
  {
   "cell_type": "code",
   "execution_count": null,
   "id": "8a320d24-401d-4214-ba0e-4855b7be3c94",
   "metadata": {},
   "outputs": [],
   "source": [
    "self_intro()"
   ]
  },
  {
   "cell_type": "markdown",
   "id": "2ba76d18-3b6a-4b70-9107-bf91472dca03",
   "metadata": {},
   "source": [
    "Now, we probably want something like a self-intro to be specific to the person who calls that function. We can specify an argument for the function so that it runs a specific way based on something that we tell it (by putting it in brackets):"
   ]
  },
  {
   "cell_type": "code",
   "execution_count": null,
   "id": "ba758068-14dd-47dd-83b7-c4bdfc089cdf",
   "metadata": {},
   "outputs": [],
   "source": [
    "def self_intro(name):\n",
    "    if name == 'Bob':\n",
    "        print('The name\\'s ' + name + '.')\n",
    "    else:\n",
    "        print('Hello, my name is ' + name + '!')\n",
    "    \n",
    "self_intro('Vanessa')\n",
    "self_intro('Bob')"
   ]
  },
  {
   "cell_type": "markdown",
   "id": "6fe86b0d-6189-4b05-97d0-8735026ec071",
   "metadata": {},
   "source": [
    "Try it out:\n",
    "1. Write a function that prints out your name and age when provided a name and age.\n",
    "2. Write a function that prints out your courses, when you give your courses to it in a list."
   ]
  },
  {
   "cell_type": "code",
   "execution_count": null,
   "id": "416d9f2d-8823-406d-b191-6c43a5cfd3e3",
   "metadata": {},
   "outputs": [],
   "source": [
    "# hint:\n",
    "\n",
    "fruit_list = ['cherry', 'banana', 'orange', 'apple', 'pomegranate', 'grapefruit']\n",
    "veggie_list = ['eggplant', 'cucumber', 'celery', 'carrot', 'potato']\n",
    "\n",
    "def peel_banana(food_list):\n",
    "    for food in food_list:\n",
    "        if food is 'banana':\n",
    "            print('peeling banana!')\n",
    "        else:\n",
    "            print('not banana...')\n",
    "\n",
    "peel_banana(fruit_list)\n",
    "peel_banana(veggie_list)"
   ]
  }
 ],
 "metadata": {
  "kernelspec": {
   "display_name": "Python 3 (ipykernel)",
   "language": "python",
   "name": "python3"
  },
  "language_info": {
   "codemirror_mode": {
    "name": "ipython",
    "version": 3
   },
   "file_extension": ".py",
   "mimetype": "text/x-python",
   "name": "python",
   "nbconvert_exporter": "python",
   "pygments_lexer": "ipython3",
   "version": "3.7.11"
  }
 },
 "nbformat": 4,
 "nbformat_minor": 5
}
