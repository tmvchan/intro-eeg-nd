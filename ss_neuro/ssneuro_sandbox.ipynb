{
 "cells": [
  {
   "cell_type": "code",
   "execution_count": 1,
   "id": "f6693831",
   "metadata": {},
   "outputs": [],
   "source": [
    "%matplotlib inline"
   ]
  },
  {
   "cell_type": "markdown",
   "id": "43607318",
   "metadata": {},
   "source": [
    "# General Experiment Runner"
   ]
  },
  {
   "cell_type": "code",
   "execution_count": 1,
   "id": "614f3c3e",
   "metadata": {},
   "outputs": [
    {
     "name": "stdout",
     "output_type": "stream",
     "text": [
      "pygame 2.3.0 (SDL 2.24.2, Python 3.7.11)\n",
      "Hello from the pygame community. https://www.pygame.org/contribute.html\n"
     ]
    }
   ],
   "source": [
    "# Imports\n",
    "import os, numpy as np,pandas as pd\n",
    "import warnings\n",
    "warnings.filterwarnings('ignore')\n",
    "import eegnb\n",
    "from eegnb import generate_save_fn\n",
    "from eegnb.devices.eeg import EEG\n",
    "from eegnb.experiments.introeeg_sandbox import RiskTakingFirst as exp # change when running different experiments\n",
    "from collections import OrderedDict\n",
    "import seaborn as sns\n",
    "from matplotlib import pyplot as plt\n",
    "\n",
    "# MNE functions\n",
    "from mne import Epochs,find_events\n",
    "from mne.decoding import Vectorizer\n",
    "\n",
    "# EEG-Notebooks functions\n",
    "from eegnb.analysis.utils2 import load_data,plot_conditions, check_report\n",
    "from eegnb.datasets import fetch_dataset"
   ]
  },
  {
   "cell_type": "markdown",
   "id": "62ea7fd7",
   "metadata": {},
   "source": [
    "### Experiment set-up"
   ]
  },
  {
   "cell_type": "code",
   "execution_count": 2,
   "id": "67a90b0c",
   "metadata": {},
   "outputs": [],
   "source": [
    "# Here we can change the variables that we use for measuring experiments!\n",
    "\n",
    "board_name = \"muse2_bfn\" # this can stay the same\n",
    "experiment = \"color_knowledge\" # this changes depending on the experiment, for the purposes of this notebook it can stay the same\n",
    "subject_id = 1 # change this each time you have a new participant\n",
    "session_nb = 1 # change this each time you have a new run\n",
    "record_duration = 50 # this changes how long each session is"
   ]
  },
  {
   "cell_type": "code",
   "execution_count": 3,
   "id": "bb34facf",
   "metadata": {},
   "outputs": [
    {
     "name": "stdout",
     "output_type": "stream",
     "text": [
      "C:\\Users\\nestea\\.eegnb\\data\\memory\\local\\muse2_bfn\\subject0001\\session001\\recording_2022-07-03-20.30.59.csv\n"
     ]
    }
   ],
   "source": [
    "# Start EEG device\n",
    "eeg_device = EEG(device=board_name, serial_num='Muse-9BF6') # make sure to replace the serial_num with 'Muse-[your device's serial digits]'\n",
    "\n",
    "# Create save file name\n",
    "save_fn = generate_save_fn(board_name, experiment, subject_id, session_nb)\n",
    "print(save_fn)"
   ]
  },
  {
   "cell_type": "markdown",
   "id": "adaea9e9",
   "metadata": {
    "tags": []
   },
   "source": [
    "### Run experiment\n",
    "\n",
    "Signal check"
   ]
  },
  {
   "cell_type": "code",
   "execution_count": null,
   "id": "b2668007-befa-47e1-a97a-765016ea3522",
   "metadata": {},
   "outputs": [],
   "source": [
    "check_report(eeg_device)"
   ]
  },
  {
   "cell_type": "markdown",
   "id": "e57f2999-84bf-4fcf-830e-dd77b968f094",
   "metadata": {},
   "source": [
    "To start the experiment, just run the block of code below after running the previous blocks. "
   ]
  },
  {
   "cell_type": "code",
   "execution_count": 3,
   "id": "186b4ccf",
   "metadata": {
    "tags": []
   },
   "outputs": [
    {
     "name": "stderr",
     "output_type": "stream",
     "text": [
      "_addDeviceView: Error adding class. \n",
      "Traceback (most recent call last):\n",
      "  File \"C:\\Users\\vanes\\miniconda3\\envs\\eeg-notebooks\\lib\\site-packages\\psychopy\\iohub\\client\\__init__.py\", line 1060, in _addDeviceView\n",
      "    d = local_class(self, dev_cls_name, dev_config)\n",
      "  File \"C:\\Users\\vanes\\miniconda3\\envs\\eeg-notebooks\\lib\\site-packages\\psychopy\\iohub\\client\\keyboard.py\", line 208, in __init__\n",
      "    self._reporting = self.isReportingEvents()\n",
      "  File \"C:\\Users\\vanes\\miniconda3\\envs\\eeg-notebooks\\lib\\site-packages\\psychopy\\iohub\\client\\__init__.py\", line 146, in __getattr__\n",
      "    raise AttributeError(self, name)\n",
      "AttributeError: (<psychopy.iohub.client.keyboard.Keyboard object at 0x0000022800093AC8>, 'isReportingEvents')\n"
     ]
    },
    {
     "ename": "AttributeError",
     "evalue": "'ExperimentHandler' object has no attribute 'timestampOnFlip'",
     "output_type": "error",
     "traceback": [
      "\u001b[1;31m---------------------------------------------------------------------------\u001b[0m",
      "\u001b[1;31mAttributeError\u001b[0m                            Traceback (most recent call last)",
      "\u001b[1;32m~\\AppData\\Local\\Temp\\ipykernel_20348\\1209073101.py\u001b[0m in \u001b[0;36m<module>\u001b[1;34m\u001b[0m\n\u001b[1;32m----> 1\u001b[1;33m \u001b[0mexp\u001b[0m\u001b[1;33m.\u001b[0m\u001b[0mpresent\u001b[0m\u001b[1;33m(\u001b[0m\u001b[0mduration\u001b[0m\u001b[1;33m=\u001b[0m\u001b[0mrecord_duration\u001b[0m\u001b[1;33m)\u001b[0m\u001b[1;31m#, subject=subject_id, session=session_nb)#, eeg=eeg_device, save_fn=save_fn, ver=8)\u001b[0m\u001b[1;33m\u001b[0m\u001b[1;33m\u001b[0m\u001b[0m\n\u001b[0m",
      "\u001b[1;32mc:\\users\\vanes\\eeg-notebooks\\eegnb\\experiments\\introeeg_sandbox\\RiskTakingFirst.py\u001b[0m in \u001b[0;36mpresent\u001b[1;34m(duration, eeg, save_fn)\u001b[0m\n\u001b[0;32m    289\u001b[0m             \u001b[0mwin\u001b[0m\u001b[1;33m.\u001b[0m\u001b[0mtimeOnFlip\u001b[0m\u001b[1;33m(\u001b[0m\u001b[0mtext\u001b[0m\u001b[1;33m,\u001b[0m \u001b[1;34m'tStartRefresh'\u001b[0m\u001b[1;33m)\u001b[0m  \u001b[1;31m# time at next scr refresh\u001b[0m\u001b[1;33m\u001b[0m\u001b[1;33m\u001b[0m\u001b[0m\n\u001b[0;32m    290\u001b[0m             \u001b[1;31m# add timestamp to datafile\u001b[0m\u001b[1;33m\u001b[0m\u001b[1;33m\u001b[0m\u001b[1;33m\u001b[0m\u001b[0m\n\u001b[1;32m--> 291\u001b[1;33m             \u001b[0mthisExp\u001b[0m\u001b[1;33m.\u001b[0m\u001b[0mtimestampOnFlip\u001b[0m\u001b[1;33m(\u001b[0m\u001b[0mwin\u001b[0m\u001b[1;33m,\u001b[0m \u001b[1;34m'text.started'\u001b[0m\u001b[1;33m)\u001b[0m\u001b[1;33m\u001b[0m\u001b[1;33m\u001b[0m\u001b[0m\n\u001b[0m\u001b[0;32m    292\u001b[0m             \u001b[0mtext\u001b[0m\u001b[1;33m.\u001b[0m\u001b[0msetAutoDraw\u001b[0m\u001b[1;33m(\u001b[0m\u001b[1;32mTrue\u001b[0m\u001b[1;33m)\u001b[0m\u001b[1;33m\u001b[0m\u001b[1;33m\u001b[0m\u001b[0m\n\u001b[0;32m    293\u001b[0m \u001b[1;33m\u001b[0m\u001b[0m\n",
      "\u001b[1;31mAttributeError\u001b[0m: 'ExperimentHandler' object has no attribute 'timestampOnFlip'"
     ]
    }
   ],
   "source": [
    "exp.present(duration=record_duration)#, subject=subject_id, session=session_nb)#, eeg=eeg_device, save_fn=save_fn, ver=8)"
   ]
  },
  {
   "cell_type": "markdown",
   "id": "34fbb919-7008-4236-8c00-37f1a06dfd8a",
   "metadata": {},
   "source": [
    "## "
   ]
  }
 ],
 "metadata": {
  "kernelspec": {
   "display_name": "Python 3 (ipykernel)",
   "language": "python",
   "name": "python3"
  },
  "language_info": {
   "codemirror_mode": {
    "name": "ipython",
    "version": 3
   },
   "file_extension": ".py",
   "mimetype": "text/x-python",
   "name": "python",
   "nbconvert_exporter": "python",
   "pygments_lexer": "ipython3",
   "version": "3.7.11"
  }
 },
 "nbformat": 4,
 "nbformat_minor": 5
}
