{
 "cells": [
  {
   "cell_type": "code",
   "execution_count": null,
   "id": "f6693831",
   "metadata": {},
   "outputs": [],
   "source": [
    "%matplotlib inline"
   ]
  },
  {
   "cell_type": "markdown",
   "id": "43607318",
   "metadata": {
    "tags": []
   },
   "source": [
    "# N170: a visual index of facial recognition\n",
    "\n",
    "Using this notebook, we will discuss and learn about the N170, an event-related potential that is associated with the perception of faces. "
   ]
  },
  {
   "cell_type": "code",
   "execution_count": null,
   "id": "614f3c3e",
   "metadata": {},
   "outputs": [],
   "source": [
    "# Imports\n",
    "import os, numpy as np,pandas as pd\n",
    "import warnings\n",
    "warnings.filterwarnings('ignore')\n",
    "import eegnb\n",
    "from eegnb import generate_save_fn\n",
    "from eegnb.devices.eeg import EEG\n",
    "from eegnb.experiments.visual_n170 import n170\n",
    "from collections import OrderedDict\n",
    "import seaborn as sns\n",
    "from matplotlib import pyplot as plt\n",
    "\n",
    "# MNE functions\n",
    "from mne import Epochs,find_events\n",
    "from mne.decoding import Vectorizer\n",
    "\n",
    "# EEG-Notebooks functions\n",
    "from eegnb.analysis.utils2 import load_data,plot_conditions, check_report\n",
    "from eegnb.datasets import fetch_dataset"
   ]
  },
  {
   "cell_type": "markdown",
   "id": "62ea7fd7",
   "metadata": {},
   "source": [
    "There are actually two ways of running experiments using this set-up. Below is one example provided to you for ease of adjusting what it is that you want to test. You can then use this template to build your own variation of an experiment!\n",
    "\n",
    "### Experiment set-up"
   ]
  },
  {
   "cell_type": "code",
   "execution_count": null,
   "id": "67a90b0c",
   "metadata": {},
   "outputs": [],
   "source": [
    "# Here we can change the variables that we use for measuring experiments!\n",
    "\n",
    "board_name = \"muse2_bfn\" # this can stay the same\n",
    "experiment = \"visual-N170\" # this changes depending on the experiment, for the purposes of this notebook it can stay the same\n",
    "subject_id = 1 # change this each time you have a new participant\n",
    "session_nb = 1 # change this each time you have a new run\n",
    "record_duration = 120 # this changes how long each session is"
   ]
  },
  {
   "cell_type": "markdown",
   "id": "be549d21",
   "metadata": {},
   "source": [
    "After this set-up, we will want to make sure we're using the right inputs before starting the experiment. Here's one way of looking at the inputs, based on where our data will be saved:"
   ]
  },
  {
   "cell_type": "code",
   "execution_count": null,
   "id": "bb34facf",
   "metadata": {},
   "outputs": [],
   "source": [
    "# Start EEG device\n",
    "eeg_device = EEG(device=board_name, serial_num='Muse-AF55') # make sure to replace the serial_num with 'Muse-[your device's serial digits]'\n",
    "\n",
    "# Create save file name\n",
    "save_fn = generate_save_fn(board_name, experiment, subject_id, session_nb)\n",
    "print(save_fn)"
   ]
  },
  {
   "cell_type": "markdown",
   "id": "adaea9e9",
   "metadata": {
    "tags": []
   },
   "source": [
    "If the subject and session are labeled with the right places, then that's where you'll find the data when the file is saved after the experiment runs. This is good to keep in mind for when you go find the data for analysis after.\n",
    "\n",
    "Also, make sure you run the above cell once before every time you want to record the experiment. You'll see that the recording file name is time-stamped - if you don't run the cell again, you'll save over your old file with a new recording!\n",
    "\n",
    "### Run experiment\n",
    "\n",
    "Before starting an experiment, you want to make sure your data aren't too noisy. One way of doing this is to run a signal quality check:"
   ]
  },
  {
   "cell_type": "code",
   "execution_count": null,
   "id": "d04473ca-1d04-452b-800d-84bdcdbc3446",
   "metadata": {},
   "outputs": [],
   "source": [
    "check_report(eeg_device)"
   ]
  },
  {
   "cell_type": "markdown",
   "id": "e57f2999-84bf-4fcf-830e-dd77b968f094",
   "metadata": {},
   "source": [
    "To start the experiment, just run the block of code below after running the previous blocks. "
   ]
  },
  {
   "cell_type": "code",
   "execution_count": null,
   "id": "186b4ccf",
   "metadata": {
    "tags": []
   },
   "outputs": [],
   "source": [
    "n170.present(duration=record_duration, eeg=eeg_device, save_fn=save_fn)"
   ]
  },
  {
   "cell_type": "markdown",
   "id": "4f2ab1c2",
   "metadata": {},
   "source": [
    "If you are running the experiment multiple times, whether that's multiple sessions for a person or with different people, make sure that you are first running the previous cells where you change subject/session and also where the file is saved - otherwise, the files you generate will end up in the wrong folders!\n",
    "\n",
    "### Visualize data\n",
    "\n",
    "Let's get a quick look at the data and see what it looks like. For the record, it should look like this:\n",
    "\n",
    "![N170](n170.jpg)"
   ]
  },
  {
   "cell_type": "code",
   "execution_count": null,
   "id": "6fd4bff1",
   "metadata": {},
   "outputs": [],
   "source": [
    "eegnb_data_path = os.path.join(os.path.expanduser('~/'),'.eegnb', 'data')    \n",
    "\n",
    "# to load data from a specific subject and session:\n",
    "subject = 1\n",
    "session = 2\n",
    "# make sure that these numbers are correct, or it will run from the last time you used 'subject' and 'session', \n",
    "# including from above!\n",
    "\n",
    "raw = load_data(subject,session,\n",
    "                experiment='visual-N170', site='local', device_name='muse2_bfn',\n",
    "                data_dir = eegnb_data_path)"
   ]
  },
  {
   "cell_type": "markdown",
   "id": "24da4d50",
   "metadata": {},
   "source": [
    "We're going to do a couple of things here that we won't go into now, but will help the final visual look like what it does above. We'll talk more about this process when we do the analyses!"
   ]
  },
  {
   "cell_type": "code",
   "execution_count": null,
   "id": "a890bc14",
   "metadata": {},
   "outputs": [],
   "source": [
    "raw.filter(1,30, method='iir')\n",
    "# raw.plot_psd(fmin=1, fmax=30); # visualize power spectrum after filtering\n",
    "\n",
    "# Create an array containing the timestamps and type of each stimulus (i.e. face or house)\n",
    "events = find_events(raw)\n",
    "event_id = {'House': 1, 'Face': 2}\n",
    "\n",
    "# Create an MNE Epochs object representing all the epochs around stimulus presentation\n",
    "epochs = Epochs(raw, events=events, event_id=event_id, \n",
    "                tmin=-0.1, tmax=0.8, baseline=None,\n",
    "                reject={'eeg': 75e-6}, preload=True, \n",
    "                verbose=False, picks=[0,1,2,3])\n",
    "print('sample drop %: ', (1 - len(epochs.events)/len(events)) * 100)\n",
    "epochs"
   ]
  },
  {
   "cell_type": "markdown",
   "id": "b86703c7",
   "metadata": {},
   "source": [
    "We're looking for that sample drop % to be as low as possible. If yours is higher than 15%, check the raw number of trials that have come out. It could be that the original recording was a bit noisy, and that's okay.\n",
    "\n",
    "Here's an example of what the next cell's output will look like: \n",
    "\n",
    "![results](n170_myplot.png)"
   ]
  },
  {
   "cell_type": "code",
   "execution_count": null,
   "id": "2be5f415",
   "metadata": {},
   "outputs": [],
   "source": [
    "conditions = OrderedDict()\n",
    "conditions['House'] = [1]\n",
    "conditions['Face'] = [2]\n",
    "\n",
    "fig, ax = plot_conditions(epochs, conditions=conditions, \n",
    "                          ci=97.5, n_boot=1000, title='',\n",
    "                          channel_order=[0,1,3,2],\n",
    "                          diff_waveform=(1, 2))"
   ]
  },
  {
   "cell_type": "markdown",
   "id": "19818a43",
   "metadata": {},
   "source": [
    "Use the below code to subsequently save your plot. Don't forget to change the name of the image file accordingly! Consider saving with the name of the person whose data this is, or anything else that will indicate to you whose file it is. "
   ]
  },
  {
   "cell_type": "code",
   "execution_count": null,
   "id": "41fcfb03",
   "metadata": {
    "scrolled": true
   },
   "outputs": [],
   "source": [
    "fig.savefig('n170_myplot.png')"
   ]
  }
 ],
 "metadata": {
  "kernelspec": {
   "display_name": "Python 3 (ipykernel)",
   "language": "python",
   "name": "python3"
  },
  "language_info": {
   "codemirror_mode": {
    "name": "ipython",
    "version": 3
   },
   "file_extension": ".py",
   "mimetype": "text/x-python",
   "name": "python",
   "nbconvert_exporter": "python",
   "pygments_lexer": "ipython3",
   "version": "3.7.11"
  }
 },
 "nbformat": 4,
 "nbformat_minor": 5
}
