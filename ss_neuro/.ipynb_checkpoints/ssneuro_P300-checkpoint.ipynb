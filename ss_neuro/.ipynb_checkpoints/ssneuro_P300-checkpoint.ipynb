{
 "cells": [
  {
   "cell_type": "code",
   "execution_count": null,
   "id": "d11435f8",
   "metadata": {},
   "outputs": [],
   "source": [
    "%matplotlib inline"
   ]
  },
  {
   "cell_type": "markdown",
   "id": "17410524",
   "metadata": {},
   "source": [
    "# P300: an index of attention\n",
    "\n",
    "Using this notebook, we will discuss and learn about the P300, an event-related potential that is associated with attention. "
   ]
  },
  {
   "cell_type": "code",
   "execution_count": null,
   "id": "6ee06ea5",
   "metadata": {},
   "outputs": [],
   "source": [
    "# Imports\n",
    "import os, numpy as np,pandas as pd\n",
    "import warnings\n",
    "warnings.filterwarnings('ignore')\n",
    "from eegnb import generate_save_fn\n",
    "from eegnb.devices.eeg import EEG\n",
    "from eegnb.experiments.visual_p300 import p300_2 as p300\n",
    "from collections import OrderedDict\n",
    "import seaborn as sns\n",
    "from matplotlib import pyplot as plt\n",
    "\n",
    "# MNE functions\n",
    "from mne import Epochs,find_events\n",
    "from mne.decoding import Vectorizer\n",
    "\n",
    "# EEG-Notebooks functions\n",
    "from eegnb.analysis.utils2 import load_data,plot_conditions, check_report\n",
    "from eegnb.datasets import fetch_dataset"
   ]
  },
  {
   "cell_type": "markdown",
   "id": "6c9d1a7f",
   "metadata": {},
   "source": [
    "Same as with the N170 dataset, we'll be doing an example of an experiment that tests the (visual) P300. \n",
    "\n",
    "### Experiment set-up"
   ]
  },
  {
   "cell_type": "code",
   "execution_count": null,
   "id": "03a892b6",
   "metadata": {},
   "outputs": [],
   "source": [
    "# Here we can change the variables that we use for measuring experiments!\n",
    "\n",
    "board_name = \"muse2_bfn\" # this can stay the same\n",
    "experiment = \"visual-P300\" # this changes depending on the experiment, for the purposes of this notebook it can stay the same\n",
    "subject_id = 1 # change this each time you have a new participant\n",
    "session_nb = 1 # change this each time you have a new run\n",
    "record_duration = 120 # this changes how long each session is"
   ]
  },
  {
   "cell_type": "code",
   "execution_count": null,
   "id": "80dbee4e",
   "metadata": {},
   "outputs": [],
   "source": [
    "# Start EEG device\n",
    "eeg_device = EEG(device=board_name, serial_num='Muse-AFE0') # make sure to change serial_num into the right Muse you're using\n",
    "\n",
    "# Create save file name\n",
    "save_fn = generate_save_fn(board_name, experiment, subject_id, session_nb)\n",
    "print(save_fn)"
   ]
  },
  {
   "cell_type": "markdown",
   "id": "f32319c8",
   "metadata": {
    "tags": []
   },
   "source": [
    "As with before, make sure that the save path is in the place that you want it to be!\n",
    "\n",
    "### Run experiment\n",
    "\n",
    "When looking at the experiment, try to count the number of cats that show up on the screen."
   ]
  },
  {
   "cell_type": "code",
   "execution_count": null,
   "id": "c16c1c6f-eff9-4dd8-acef-71b583dec51b",
   "metadata": {},
   "outputs": [],
   "source": [
    "check_report(eeg_device)"
   ]
  },
  {
   "cell_type": "code",
   "execution_count": null,
   "id": "50a92f80",
   "metadata": {},
   "outputs": [],
   "source": [
    "p300.present(duration=record_duration, eeg=eeg_device, save_fn=save_fn, ver=1) # 1 is for cats and dogs, 2 is for letters and symbols, 3 is for red and blue circles"
   ]
  },
  {
   "cell_type": "markdown",
   "id": "9aeb5c28",
   "metadata": {},
   "source": [
    "As with before, make sure that you confirm that your files are saved in the right place before we do the visualization. \n",
    "\n",
    "### Visualization\n",
    "\n",
    "As a reminder, the P300 looks like this (see P3 below):\n",
    "\n",
    "![P300](p300.png)"
   ]
  },
  {
   "cell_type": "code",
   "execution_count": null,
   "id": "ae0b0292",
   "metadata": {},
   "outputs": [],
   "source": [
    "eegnb_data_path = os.path.join(os.path.expanduser('~/'),'.eegnb', 'data')    \n",
    "\n",
    "# to load data from a specific subject and session:\n",
    "subject = 3\n",
    "session = 1\n",
    "# make sure that these numbers are correct, or it will run from the last time you used 'subject' and 'session', \n",
    "# including from above!\n",
    "\n",
    "raw = load_data(subject,session,\n",
    "                experiment='visual-P300', site='local', device_name='muse2_bfn',\n",
    "                data_dir = eegnb_data_path)"
   ]
  },
  {
   "cell_type": "markdown",
   "id": "706068b9",
   "metadata": {},
   "source": [
    "As with before, we'll be doing some initial filtering of the data to capture the range of the data that we're the most interested in looking at. We'll also be cutting out trials based on some artifacts that we expect to emerge because of people blinking their eyes. Those tend to make much larger fluctuations in the EEG signal than what we're interested in, so we can do this by cutting out any epoch that has a fluctuation larger than a certain threshold."
   ]
  },
  {
   "cell_type": "code",
   "execution_count": null,
   "id": "5d167c6e",
   "metadata": {},
   "outputs": [],
   "source": [
    "raw.filter(1,20, method='iir')\n",
    "# raw.plot_psd(fmin=1, fmax=30); # visualize power spectrum after filtering\n",
    "\n",
    "# Create an array containing the timestamps and type of each stimulus (i.e. face or house)\n",
    "events = find_events(raw)\n",
    "event_id = {'Non-Target': 1, 'Target': 2}\n",
    "\n",
    "# Create an MNE Epochs object representing all the epochs around stimulus presentation\n",
    "epochs = Epochs(raw, events=events, event_id=event_id, \n",
    "                tmin=-0.1, tmax=0.8, baseline=None,\n",
    "                reject={'eeg': 75e-6}, preload=True, \n",
    "                verbose=False, picks=[0,1,2,3])\n",
    "print('sample drop %: ', (1 - len(epochs.events)/len(events)) * 100)\n",
    "epochs"
   ]
  },
  {
   "cell_type": "markdown",
   "id": "17616878",
   "metadata": {},
   "source": [
    "We're looking for that sample drop % to be as low as possible. If yours is higher than 15%, check the raw number of trials that have come out. It could be that the original recording was a bit noisy, and that's okay. You should run enough trials to have at least 50 remaining for the Target condition."
   ]
  },
  {
   "cell_type": "code",
   "execution_count": null,
   "id": "1cea1042",
   "metadata": {},
   "outputs": [],
   "source": [
    "conditions = OrderedDict()\n",
    "conditions['Non-target'] = [1]\n",
    "conditions['Target'] = [2]\n",
    "\n",
    "fig, ax = plot_conditions(epochs, conditions=conditions, \n",
    "                          ci=97.5, n_boot=1000, title='',\n",
    "                          diff_waveform=(1, 2),\n",
    "                          channel_order=[1, 0, 2, 3])"
   ]
  },
  {
   "cell_type": "markdown",
   "id": "6f2121d9",
   "metadata": {},
   "source": [
    "Use the below code to subsequently save your plot. Don't forget to change the name of the image file accordingly! Consider saving with the name of the person whose data this is, or anything else that will indicate to you whose file it is. "
   ]
  },
  {
   "cell_type": "code",
   "execution_count": null,
   "id": "38257f34",
   "metadata": {},
   "outputs": [],
   "source": [
    "fig.savefig('p300_myplot.png')"
   ]
  }
 ],
 "metadata": {
  "kernelspec": {
   "display_name": "Python 3 (ipykernel)",
   "language": "python",
   "name": "python3"
  },
  "language_info": {
   "codemirror_mode": {
    "name": "ipython",
    "version": 3
   },
   "file_extension": ".py",
   "mimetype": "text/x-python",
   "name": "python",
   "nbconvert_exporter": "python",
   "pygments_lexer": "ipython3",
   "version": "3.7.11"
  }
 },
 "nbformat": 4,
 "nbformat_minor": 5
}
