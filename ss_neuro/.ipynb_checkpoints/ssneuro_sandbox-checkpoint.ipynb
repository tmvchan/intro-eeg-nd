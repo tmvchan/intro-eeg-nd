{
 "cells": [
  {
   "cell_type": "code",
   "execution_count": 1,
   "id": "f6693831",
   "metadata": {},
   "outputs": [],
   "source": [
    "%matplotlib inline"
   ]
  },
  {
   "cell_type": "markdown",
   "id": "43607318",
   "metadata": {},
   "source": [
    "# General Experiment Runner"
   ]
  },
  {
   "cell_type": "code",
   "execution_count": 1,
   "id": "614f3c3e",
   "metadata": {},
   "outputs": [],
   "source": [
    "# Imports\n",
    "import os, numpy as np,pandas as pd\n",
    "import warnings\n",
    "warnings.filterwarnings('ignore')\n",
    "import eegnb\n",
    "from eegnb import generate_save_fn\n",
    "from eegnb.devices.eeg import EEG\n",
    "from eegnb.experiments.ssneuro_studies import face_memory as exp # change when running different experiments\n",
    "from collections import OrderedDict\n",
    "import seaborn as sns\n",
    "from matplotlib import pyplot as plt\n",
    "\n",
    "# MNE functions\n",
    "from mne import Epochs,find_events\n",
    "from mne.decoding import Vectorizer\n",
    "\n",
    "# EEG-Notebooks functions\n",
    "from eegnb.analysis.utils2 import load_data,plot_conditions, check_report\n",
    "from eegnb.datasets import fetch_dataset"
   ]
  },
  {
   "cell_type": "markdown",
   "id": "62ea7fd7",
   "metadata": {},
   "source": [
    "### Experiment set-up"
   ]
  },
  {
   "cell_type": "code",
   "execution_count": 2,
   "id": "67a90b0c",
   "metadata": {},
   "outputs": [],
   "source": [
    "# Here we can change the variables that we use for measuring experiments!\n",
    "\n",
    "board_name = \"muse2_bfn\" # this can stay the same\n",
    "experiment = \"memory\" # this changes depending on the experiment, for the purposes of this notebook it can stay the same\n",
    "subject_id = 1 # change this each time you have a new participant\n",
    "session_nb = 1 # change this each time you have a new run\n",
    "record_duration = 50 # this changes how long each session is"
   ]
  },
  {
   "cell_type": "code",
   "execution_count": 3,
   "id": "bb34facf",
   "metadata": {},
   "outputs": [
    {
     "name": "stdout",
     "output_type": "stream",
     "text": [
      "C:\\Users\\nestea\\.eegnb\\data\\memory\\local\\muse2_bfn\\subject0001\\session001\\recording_2022-07-03-20.30.59.csv\n"
     ]
    }
   ],
   "source": [
    "# Start EEG device\n",
    "eeg_device = EEG(device=board_name, serial_num='Muse-9BF6') # make sure to replace the serial_num with 'Muse-[your device's serial digits]'\n",
    "\n",
    "# Create save file name\n",
    "save_fn = generate_save_fn(board_name, experiment, subject_id, session_nb)\n",
    "print(save_fn)"
   ]
  },
  {
   "cell_type": "markdown",
   "id": "adaea9e9",
   "metadata": {
    "tags": []
   },
   "source": [
    "### Run experiment\n",
    "\n",
    "Signal check"
   ]
  },
  {
   "cell_type": "code",
   "execution_count": null,
   "id": "b2668007-befa-47e1-a97a-765016ea3522",
   "metadata": {},
   "outputs": [],
   "source": [
    "check_report(eeg_device)"
   ]
  },
  {
   "cell_type": "markdown",
   "id": "e57f2999-84bf-4fcf-830e-dd77b968f094",
   "metadata": {},
   "source": [
    "To start the experiment, just run the block of code below after running the previous blocks. "
   ]
  },
  {
   "cell_type": "code",
   "execution_count": 4,
   "id": "186b4ccf",
   "metadata": {
    "tags": []
   },
   "outputs": [
    {
     "name": "stdout",
     "output_type": "stream",
     "text": [
      "17.4324 \tWARNING \tUser requested fullscreen with size [1600  900], but screen is actually [1920, 1080]. Using actual size\n",
      "18.1024 \tWARNING \tUser requested fullscreen with size [1600  900], but screen is actually [1920, 1080]. Using actual size\n"
     ]
    }
   ],
   "source": [
    "exp.present(duration=record_duration, eeg=eeg_device, save_fn=save_fn, ver=8)"
   ]
  },
  {
   "cell_type": "code",
   "execution_count": null,
   "id": "bf967f85-da0e-4eab-ac5c-ac694fb734ef",
   "metadata": {},
   "outputs": [],
   "source": [
    " "
   ]
  }
 ],
 "metadata": {
  "kernelspec": {
   "display_name": "Python 3 (ipykernel)",
   "language": "python",
   "name": "python3"
  },
  "language_info": {
   "codemirror_mode": {
    "name": "ipython",
    "version": 3
   },
   "file_extension": ".py",
   "mimetype": "text/x-python",
   "name": "python",
   "nbconvert_exporter": "python",
   "pygments_lexer": "ipython3",
   "version": "3.7.13"
  }
 },
 "nbformat": 4,
 "nbformat_minor": 5
}
